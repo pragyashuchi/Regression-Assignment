{
 "cells": [
  {
   "cell_type": "markdown",
   "id": "eeeed801",
   "metadata": {
    "ExecuteTime": {
     "end_time": "2022-06-15T03:21:54.720169Z",
     "start_time": "2022-06-15T03:21:54.696234Z"
    }
   },
   "source": [
    "<a id = 'top'></a>\n",
    "\n",
    "<h1><center>Linear Regression Assignment</center></h1>"
   ]
  },
  {
   "cell_type": "markdown",
   "id": "fd5968dc",
   "metadata": {},
   "source": [
    "<h2>Objective: To predict the demand for shared bikes for Boom Bikes </h2>\n",
    "\n",
    "A bike-sharing system is a service in which bikes are made available for shared use to individuals on a short term basis for a price or free. Many bike share systems allow people to borrow a bike from a \"dock\" which is usually computer-controlled wherein the user enters the payment information, and the system unlocks it. This bike can then be returned to another dock belonging to the same system.A US bike-sharing provider BoomBikes has recently suffered considerable dips in their revenues due to the ongoing Corona pandemic. The company is finding it very difficult to sustain in the current market scenario. So, it has decided to come up with a mindful business plan to be able to accelerate its revenue as soon as the ongoing lockdown comes to an end, and the economy restores to a healthy state. In such an attempt, BoomBikes aspires to understand the demand for shared bikes among the people after this ongoing quarantine situation ends across the nation due to Covid-19. They have planned this to prepare themselves to cater to the people's needs once the situation gets better all around and stand out from other service providers and make huge profits.They have contracted a consulting company to understand the factors on which the demand for these shared bikes depends. Specifically, they want to understand the factors affecting the demand for these shared bikes in the American market. \n",
    "\n",
    "Through this assignment , we are intending to model the demand for shared bikes with the available independent variables. It will be used by the management to understand how exactly the demands vary with different features. They can accordingly manipulate the business strategy to meet the demand levels and meet the customer's expectations. Further, the model will be a good way for management to understand the demand dynamics of a new market.  "
   ]
  },
  {
   "cell_type": "markdown",
   "id": "2a55200c",
   "metadata": {},
   "source": [
    "### Importing the libraries"
   ]
  },
  {
   "cell_type": "code",
   "execution_count": 361,
   "id": "06fefc13",
   "metadata": {
    "ExecuteTime": {
     "end_time": "2022-06-15T15:56:52.507987Z",
     "start_time": "2022-06-15T15:56:52.415046Z"
    }
   },
   "outputs": [],
   "source": [
    "import numpy as np\n",
    "import pandas as pd\n",
    "import matplotlib.pyplot as plt\n",
    "from matplotlib.lines import Line2D\n",
    "import seaborn as sns\n",
    "import datetime\n",
    "import re\n",
    "import warnings\n",
    "warnings.simplefilter(\"ignore\")\n",
    "from pandas.api.types import  is_object_dtype, is_numeric_dtype\n",
    "pd.set_option(\"display.max_rows\", 500)\n",
    "pd.set_option(\"display.max_columns\", 500)\n",
    "from sklearn.model_selection import train_test_split\n",
    "from sklearn.preprocessing import MinMaxScaler\n",
    "import statsmodels.api as sm\n",
    "from sklearn.preprocessing import StandardScaler\n",
    "from sklearn.feature_selection import RFE"
   ]
  },
  {
   "cell_type": "markdown",
   "id": "1f299134",
   "metadata": {
    "ExecuteTime": {
     "end_time": "2022-06-15T05:42:05.753107Z",
     "start_time": "2022-06-15T05:42:05.742572Z"
    }
   },
   "source": [
    "### Loading the data"
   ]
  },
  {
   "cell_type": "code",
   "execution_count": 362,
   "id": "04792c25",
   "metadata": {
    "ExecuteTime": {
     "end_time": "2022-06-15T15:56:53.540268Z",
     "start_time": "2022-06-15T15:56:53.450714Z"
    },
    "scrolled": false
   },
   "outputs": [
    {
     "data": {
      "text/html": [
       "<div>\n",
       "<style scoped>\n",
       "    .dataframe tbody tr th:only-of-type {\n",
       "        vertical-align: middle;\n",
       "    }\n",
       "\n",
       "    .dataframe tbody tr th {\n",
       "        vertical-align: top;\n",
       "    }\n",
       "\n",
       "    .dataframe thead th {\n",
       "        text-align: right;\n",
       "    }\n",
       "</style>\n",
       "<table border=\"1\" class=\"dataframe\">\n",
       "  <thead>\n",
       "    <tr style=\"text-align: right;\">\n",
       "      <th></th>\n",
       "      <th>instant</th>\n",
       "      <th>dteday</th>\n",
       "      <th>season</th>\n",
       "      <th>yr</th>\n",
       "      <th>mnth</th>\n",
       "      <th>holiday</th>\n",
       "      <th>weekday</th>\n",
       "      <th>workingday</th>\n",
       "      <th>weathersit</th>\n",
       "      <th>temp</th>\n",
       "      <th>atemp</th>\n",
       "      <th>hum</th>\n",
       "      <th>windspeed</th>\n",
       "      <th>casual</th>\n",
       "      <th>registered</th>\n",
       "      <th>cnt</th>\n",
       "    </tr>\n",
       "  </thead>\n",
       "  <tbody>\n",
       "    <tr>\n",
       "      <th>0</th>\n",
       "      <td>1</td>\n",
       "      <td>01-01-2018</td>\n",
       "      <td>1</td>\n",
       "      <td>0</td>\n",
       "      <td>1</td>\n",
       "      <td>0</td>\n",
       "      <td>6</td>\n",
       "      <td>0</td>\n",
       "      <td>2</td>\n",
       "      <td>14.110847</td>\n",
       "      <td>18.18125</td>\n",
       "      <td>80.5833</td>\n",
       "      <td>10.749882</td>\n",
       "      <td>331</td>\n",
       "      <td>654</td>\n",
       "      <td>985</td>\n",
       "    </tr>\n",
       "    <tr>\n",
       "      <th>1</th>\n",
       "      <td>2</td>\n",
       "      <td>02-01-2018</td>\n",
       "      <td>1</td>\n",
       "      <td>0</td>\n",
       "      <td>1</td>\n",
       "      <td>0</td>\n",
       "      <td>0</td>\n",
       "      <td>0</td>\n",
       "      <td>2</td>\n",
       "      <td>14.902598</td>\n",
       "      <td>17.68695</td>\n",
       "      <td>69.6087</td>\n",
       "      <td>16.652113</td>\n",
       "      <td>131</td>\n",
       "      <td>670</td>\n",
       "      <td>801</td>\n",
       "    </tr>\n",
       "    <tr>\n",
       "      <th>2</th>\n",
       "      <td>3</td>\n",
       "      <td>03-01-2018</td>\n",
       "      <td>1</td>\n",
       "      <td>0</td>\n",
       "      <td>1</td>\n",
       "      <td>0</td>\n",
       "      <td>1</td>\n",
       "      <td>1</td>\n",
       "      <td>1</td>\n",
       "      <td>8.050924</td>\n",
       "      <td>9.47025</td>\n",
       "      <td>43.7273</td>\n",
       "      <td>16.636703</td>\n",
       "      <td>120</td>\n",
       "      <td>1229</td>\n",
       "      <td>1349</td>\n",
       "    </tr>\n",
       "    <tr>\n",
       "      <th>3</th>\n",
       "      <td>4</td>\n",
       "      <td>04-01-2018</td>\n",
       "      <td>1</td>\n",
       "      <td>0</td>\n",
       "      <td>1</td>\n",
       "      <td>0</td>\n",
       "      <td>2</td>\n",
       "      <td>1</td>\n",
       "      <td>1</td>\n",
       "      <td>8.200000</td>\n",
       "      <td>10.60610</td>\n",
       "      <td>59.0435</td>\n",
       "      <td>10.739832</td>\n",
       "      <td>108</td>\n",
       "      <td>1454</td>\n",
       "      <td>1562</td>\n",
       "    </tr>\n",
       "  </tbody>\n",
       "</table>\n",
       "</div>"
      ],
      "text/plain": [
       "   instant      dteday  season  yr  mnth  holiday  weekday  workingday  \\\n",
       "0        1  01-01-2018       1   0     1        0        6           0   \n",
       "1        2  02-01-2018       1   0     1        0        0           0   \n",
       "2        3  03-01-2018       1   0     1        0        1           1   \n",
       "3        4  04-01-2018       1   0     1        0        2           1   \n",
       "\n",
       "   weathersit       temp     atemp      hum  windspeed  casual  registered  \\\n",
       "0           2  14.110847  18.18125  80.5833  10.749882     331         654   \n",
       "1           2  14.902598  17.68695  69.6087  16.652113     131         670   \n",
       "2           1   8.050924   9.47025  43.7273  16.636703     120        1229   \n",
       "3           1   8.200000  10.60610  59.0435  10.739832     108        1454   \n",
       "\n",
       "    cnt  \n",
       "0   985  \n",
       "1   801  \n",
       "2  1349  \n",
       "3  1562  "
      ]
     },
     "execution_count": 362,
     "metadata": {},
     "output_type": "execute_result"
    }
   ],
   "source": [
    "df = pd.read_csv(\"regression_assignment.csv\")\n",
    "df.head(4)"
   ]
  },
  {
   "cell_type": "markdown",
   "id": "fb417cac",
   "metadata": {
    "ExecuteTime": {
     "end_time": "2022-06-15T05:44:49.223522Z",
     "start_time": "2022-06-15T05:44:49.220533Z"
    }
   },
   "source": [
    "### Understanding the Data"
   ]
  },
  {
   "cell_type": "code",
   "execution_count": 363,
   "id": "5e89978e",
   "metadata": {
    "ExecuteTime": {
     "end_time": "2022-06-15T15:56:54.272634Z",
     "start_time": "2022-06-15T15:56:54.259565Z"
    }
   },
   "outputs": [
    {
     "name": "stdout",
     "output_type": "stream",
     "text": [
      "Shape of the Data: (730, 16)\n"
     ]
    }
   ],
   "source": [
    "print(f\"Shape of the Data: {df.shape}\")"
   ]
  },
  {
   "cell_type": "code",
   "execution_count": 364,
   "id": "e44adac8",
   "metadata": {
    "ExecuteTime": {
     "end_time": "2022-06-15T15:56:55.003023Z",
     "start_time": "2022-06-15T15:56:54.943171Z"
    }
   },
   "outputs": [
    {
     "name": "stdout",
     "output_type": "stream",
     "text": [
      "<class 'pandas.core.frame.DataFrame'>\n",
      "RangeIndex: 730 entries, 0 to 729\n",
      "Data columns (total 16 columns):\n",
      " #   Column      Non-Null Count  Dtype  \n",
      "---  ------      --------------  -----  \n",
      " 0   instant     730 non-null    int64  \n",
      " 1   dteday      730 non-null    object \n",
      " 2   season      730 non-null    int64  \n",
      " 3   yr          730 non-null    int64  \n",
      " 4   mnth        730 non-null    int64  \n",
      " 5   holiday     730 non-null    int64  \n",
      " 6   weekday     730 non-null    int64  \n",
      " 7   workingday  730 non-null    int64  \n",
      " 8   weathersit  730 non-null    int64  \n",
      " 9   temp        730 non-null    float64\n",
      " 10  atemp       730 non-null    float64\n",
      " 11  hum         730 non-null    float64\n",
      " 12  windspeed   730 non-null    float64\n",
      " 13  casual      730 non-null    int64  \n",
      " 14  registered  730 non-null    int64  \n",
      " 15  cnt         730 non-null    int64  \n",
      "dtypes: float64(4), int64(11), object(1)\n",
      "memory usage: 91.4+ KB\n"
     ]
    }
   ],
   "source": [
    "df.info(verbose = 2, null_counts = True)"
   ]
  },
  {
   "cell_type": "code",
   "execution_count": 365,
   "id": "50432129",
   "metadata": {
    "ExecuteTime": {
     "end_time": "2022-06-15T15:56:55.674607Z",
     "start_time": "2022-06-15T15:56:55.581715Z"
    }
   },
   "outputs": [
    {
     "data": {
      "text/html": [
       "<div>\n",
       "<style scoped>\n",
       "    .dataframe tbody tr th:only-of-type {\n",
       "        vertical-align: middle;\n",
       "    }\n",
       "\n",
       "    .dataframe tbody tr th {\n",
       "        vertical-align: top;\n",
       "    }\n",
       "\n",
       "    .dataframe thead th {\n",
       "        text-align: right;\n",
       "    }\n",
       "</style>\n",
       "<table border=\"1\" class=\"dataframe\">\n",
       "  <thead>\n",
       "    <tr style=\"text-align: right;\">\n",
       "      <th></th>\n",
       "      <th>instant</th>\n",
       "      <th>season</th>\n",
       "      <th>yr</th>\n",
       "      <th>mnth</th>\n",
       "      <th>holiday</th>\n",
       "      <th>weekday</th>\n",
       "      <th>workingday</th>\n",
       "      <th>weathersit</th>\n",
       "      <th>temp</th>\n",
       "      <th>atemp</th>\n",
       "      <th>hum</th>\n",
       "      <th>windspeed</th>\n",
       "      <th>casual</th>\n",
       "      <th>registered</th>\n",
       "      <th>cnt</th>\n",
       "    </tr>\n",
       "  </thead>\n",
       "  <tbody>\n",
       "    <tr>\n",
       "      <th>count</th>\n",
       "      <td>730.000000</td>\n",
       "      <td>730.000000</td>\n",
       "      <td>730.000000</td>\n",
       "      <td>730.000000</td>\n",
       "      <td>730.000000</td>\n",
       "      <td>730.000000</td>\n",
       "      <td>730.000000</td>\n",
       "      <td>730.000000</td>\n",
       "      <td>730.000000</td>\n",
       "      <td>730.000000</td>\n",
       "      <td>730.000000</td>\n",
       "      <td>730.000000</td>\n",
       "      <td>730.000000</td>\n",
       "      <td>730.000000</td>\n",
       "      <td>730.000000</td>\n",
       "    </tr>\n",
       "    <tr>\n",
       "      <th>mean</th>\n",
       "      <td>365.500000</td>\n",
       "      <td>2.498630</td>\n",
       "      <td>0.500000</td>\n",
       "      <td>6.526027</td>\n",
       "      <td>0.028767</td>\n",
       "      <td>2.997260</td>\n",
       "      <td>0.683562</td>\n",
       "      <td>1.394521</td>\n",
       "      <td>20.319259</td>\n",
       "      <td>23.726322</td>\n",
       "      <td>62.765175</td>\n",
       "      <td>12.763620</td>\n",
       "      <td>849.249315</td>\n",
       "      <td>3658.757534</td>\n",
       "      <td>4508.006849</td>\n",
       "    </tr>\n",
       "    <tr>\n",
       "      <th>std</th>\n",
       "      <td>210.877136</td>\n",
       "      <td>1.110184</td>\n",
       "      <td>0.500343</td>\n",
       "      <td>3.450215</td>\n",
       "      <td>0.167266</td>\n",
       "      <td>2.006161</td>\n",
       "      <td>0.465405</td>\n",
       "      <td>0.544807</td>\n",
       "      <td>7.506729</td>\n",
       "      <td>8.150308</td>\n",
       "      <td>14.237589</td>\n",
       "      <td>5.195841</td>\n",
       "      <td>686.479875</td>\n",
       "      <td>1559.758728</td>\n",
       "      <td>1936.011647</td>\n",
       "    </tr>\n",
       "    <tr>\n",
       "      <th>min</th>\n",
       "      <td>1.000000</td>\n",
       "      <td>1.000000</td>\n",
       "      <td>0.000000</td>\n",
       "      <td>1.000000</td>\n",
       "      <td>0.000000</td>\n",
       "      <td>0.000000</td>\n",
       "      <td>0.000000</td>\n",
       "      <td>1.000000</td>\n",
       "      <td>2.424346</td>\n",
       "      <td>3.953480</td>\n",
       "      <td>0.000000</td>\n",
       "      <td>1.500244</td>\n",
       "      <td>2.000000</td>\n",
       "      <td>20.000000</td>\n",
       "      <td>22.000000</td>\n",
       "    </tr>\n",
       "    <tr>\n",
       "      <th>25%</th>\n",
       "      <td>183.250000</td>\n",
       "      <td>2.000000</td>\n",
       "      <td>0.000000</td>\n",
       "      <td>4.000000</td>\n",
       "      <td>0.000000</td>\n",
       "      <td>1.000000</td>\n",
       "      <td>0.000000</td>\n",
       "      <td>1.000000</td>\n",
       "      <td>13.811885</td>\n",
       "      <td>16.889713</td>\n",
       "      <td>52.000000</td>\n",
       "      <td>9.041650</td>\n",
       "      <td>316.250000</td>\n",
       "      <td>2502.250000</td>\n",
       "      <td>3169.750000</td>\n",
       "    </tr>\n",
       "    <tr>\n",
       "      <th>50%</th>\n",
       "      <td>365.500000</td>\n",
       "      <td>3.000000</td>\n",
       "      <td>0.500000</td>\n",
       "      <td>7.000000</td>\n",
       "      <td>0.000000</td>\n",
       "      <td>3.000000</td>\n",
       "      <td>1.000000</td>\n",
       "      <td>1.000000</td>\n",
       "      <td>20.465826</td>\n",
       "      <td>24.368225</td>\n",
       "      <td>62.625000</td>\n",
       "      <td>12.125325</td>\n",
       "      <td>717.000000</td>\n",
       "      <td>3664.500000</td>\n",
       "      <td>4548.500000</td>\n",
       "    </tr>\n",
       "    <tr>\n",
       "      <th>75%</th>\n",
       "      <td>547.750000</td>\n",
       "      <td>3.000000</td>\n",
       "      <td>1.000000</td>\n",
       "      <td>10.000000</td>\n",
       "      <td>0.000000</td>\n",
       "      <td>5.000000</td>\n",
       "      <td>1.000000</td>\n",
       "      <td>2.000000</td>\n",
       "      <td>26.880615</td>\n",
       "      <td>30.445775</td>\n",
       "      <td>72.989575</td>\n",
       "      <td>15.625589</td>\n",
       "      <td>1096.500000</td>\n",
       "      <td>4783.250000</td>\n",
       "      <td>5966.000000</td>\n",
       "    </tr>\n",
       "    <tr>\n",
       "      <th>max</th>\n",
       "      <td>730.000000</td>\n",
       "      <td>4.000000</td>\n",
       "      <td>1.000000</td>\n",
       "      <td>12.000000</td>\n",
       "      <td>1.000000</td>\n",
       "      <td>6.000000</td>\n",
       "      <td>1.000000</td>\n",
       "      <td>3.000000</td>\n",
       "      <td>35.328347</td>\n",
       "      <td>42.044800</td>\n",
       "      <td>97.250000</td>\n",
       "      <td>34.000021</td>\n",
       "      <td>3410.000000</td>\n",
       "      <td>6946.000000</td>\n",
       "      <td>8714.000000</td>\n",
       "    </tr>\n",
       "  </tbody>\n",
       "</table>\n",
       "</div>"
      ],
      "text/plain": [
       "          instant      season          yr        mnth     holiday     weekday  \\\n",
       "count  730.000000  730.000000  730.000000  730.000000  730.000000  730.000000   \n",
       "mean   365.500000    2.498630    0.500000    6.526027    0.028767    2.997260   \n",
       "std    210.877136    1.110184    0.500343    3.450215    0.167266    2.006161   \n",
       "min      1.000000    1.000000    0.000000    1.000000    0.000000    0.000000   \n",
       "25%    183.250000    2.000000    0.000000    4.000000    0.000000    1.000000   \n",
       "50%    365.500000    3.000000    0.500000    7.000000    0.000000    3.000000   \n",
       "75%    547.750000    3.000000    1.000000   10.000000    0.000000    5.000000   \n",
       "max    730.000000    4.000000    1.000000   12.000000    1.000000    6.000000   \n",
       "\n",
       "       workingday  weathersit        temp       atemp         hum   windspeed  \\\n",
       "count  730.000000  730.000000  730.000000  730.000000  730.000000  730.000000   \n",
       "mean     0.683562    1.394521   20.319259   23.726322   62.765175   12.763620   \n",
       "std      0.465405    0.544807    7.506729    8.150308   14.237589    5.195841   \n",
       "min      0.000000    1.000000    2.424346    3.953480    0.000000    1.500244   \n",
       "25%      0.000000    1.000000   13.811885   16.889713   52.000000    9.041650   \n",
       "50%      1.000000    1.000000   20.465826   24.368225   62.625000   12.125325   \n",
       "75%      1.000000    2.000000   26.880615   30.445775   72.989575   15.625589   \n",
       "max      1.000000    3.000000   35.328347   42.044800   97.250000   34.000021   \n",
       "\n",
       "            casual   registered          cnt  \n",
       "count   730.000000   730.000000   730.000000  \n",
       "mean    849.249315  3658.757534  4508.006849  \n",
       "std     686.479875  1559.758728  1936.011647  \n",
       "min       2.000000    20.000000    22.000000  \n",
       "25%     316.250000  2502.250000  3169.750000  \n",
       "50%     717.000000  3664.500000  4548.500000  \n",
       "75%    1096.500000  4783.250000  5966.000000  \n",
       "max    3410.000000  6946.000000  8714.000000  "
      ]
     },
     "execution_count": 365,
     "metadata": {},
     "output_type": "execute_result"
    }
   ],
   "source": [
    "df.describe()"
   ]
  },
  {
   "cell_type": "markdown",
   "id": "412ef270",
   "metadata": {
    "ExecuteTime": {
     "end_time": "2022-06-15T06:07:06.134887Z",
     "start_time": "2022-06-15T06:07:06.123248Z"
    }
   },
   "source": [
    "#### Understanding the categorical Variable"
   ]
  },
  {
   "cell_type": "code",
   "execution_count": 366,
   "id": "303dbe7c",
   "metadata": {
    "ExecuteTime": {
     "end_time": "2022-06-15T15:56:56.781104Z",
     "start_time": "2022-06-15T15:56:56.745167Z"
    },
    "scrolled": false
   },
   "outputs": [
    {
     "data": {
      "text/html": [
       "<div>\n",
       "<style scoped>\n",
       "    .dataframe tbody tr th:only-of-type {\n",
       "        vertical-align: middle;\n",
       "    }\n",
       "\n",
       "    .dataframe tbody tr th {\n",
       "        vertical-align: top;\n",
       "    }\n",
       "\n",
       "    .dataframe thead th {\n",
       "        text-align: right;\n",
       "    }\n",
       "</style>\n",
       "<table border=\"1\" class=\"dataframe\">\n",
       "  <thead>\n",
       "    <tr style=\"text-align: right;\">\n",
       "      <th></th>\n",
       "      <th>columns</th>\n",
       "      <th>unique_count</th>\n",
       "    </tr>\n",
       "  </thead>\n",
       "  <tbody>\n",
       "    <tr>\n",
       "      <th>0</th>\n",
       "      <td>season</td>\n",
       "      <td>4</td>\n",
       "    </tr>\n",
       "    <tr>\n",
       "      <th>1</th>\n",
       "      <td>yr</td>\n",
       "      <td>2</td>\n",
       "    </tr>\n",
       "    <tr>\n",
       "      <th>2</th>\n",
       "      <td>mnth</td>\n",
       "      <td>12</td>\n",
       "    </tr>\n",
       "    <tr>\n",
       "      <th>3</th>\n",
       "      <td>holiday</td>\n",
       "      <td>2</td>\n",
       "    </tr>\n",
       "    <tr>\n",
       "      <th>4</th>\n",
       "      <td>weekday</td>\n",
       "      <td>7</td>\n",
       "    </tr>\n",
       "    <tr>\n",
       "      <th>5</th>\n",
       "      <td>workingday</td>\n",
       "      <td>2</td>\n",
       "    </tr>\n",
       "    <tr>\n",
       "      <th>6</th>\n",
       "      <td>weathersit</td>\n",
       "      <td>3</td>\n",
       "    </tr>\n",
       "  </tbody>\n",
       "</table>\n",
       "</div>"
      ],
      "text/plain": [
       "      columns  unique_count\n",
       "0      season             4\n",
       "1          yr             2\n",
       "2        mnth            12\n",
       "3     holiday             2\n",
       "4     weekday             7\n",
       "5  workingday             2\n",
       "6  weathersit             3"
      ]
     },
     "execution_count": 366,
     "metadata": {},
     "output_type": "execute_result"
    }
   ],
   "source": [
    "cat_vars = ['season','yr','mnth', 'holiday','weekday','workingday','weathersit']\n",
    "df_variance_cat = pd.DataFrame()\n",
    "cols_list_cat = [col for col in cat_vars]\n",
    "df_variance_cat['columns'] = cols_list_cat\n",
    "df_variance_cat['unique_count'] = [df[col].nunique() for col in cols_list_cat]\n",
    "df_variance_cat"
   ]
  },
  {
   "cell_type": "code",
   "execution_count": 367,
   "id": "1c9c1389",
   "metadata": {
    "ExecuteTime": {
     "end_time": "2022-06-15T15:56:57.341745Z",
     "start_time": "2022-06-15T15:56:57.263629Z"
    }
   },
   "outputs": [
    {
     "data": {
      "text/html": [
       "<div>\n",
       "<style scoped>\n",
       "    .dataframe tbody tr th:only-of-type {\n",
       "        vertical-align: middle;\n",
       "    }\n",
       "\n",
       "    .dataframe tbody tr th {\n",
       "        vertical-align: top;\n",
       "    }\n",
       "\n",
       "    .dataframe thead th {\n",
       "        text-align: right;\n",
       "    }\n",
       "</style>\n",
       "<table border=\"1\" class=\"dataframe\">\n",
       "  <thead>\n",
       "    <tr style=\"text-align: right;\">\n",
       "      <th></th>\n",
       "      <th>season</th>\n",
       "      <th>value_counts</th>\n",
       "    </tr>\n",
       "  </thead>\n",
       "  <tbody>\n",
       "    <tr>\n",
       "      <th>0</th>\n",
       "      <td>3</td>\n",
       "      <td>188</td>\n",
       "    </tr>\n",
       "    <tr>\n",
       "      <th>1</th>\n",
       "      <td>2</td>\n",
       "      <td>184</td>\n",
       "    </tr>\n",
       "    <tr>\n",
       "      <th>2</th>\n",
       "      <td>1</td>\n",
       "      <td>180</td>\n",
       "    </tr>\n",
       "    <tr>\n",
       "      <th>3</th>\n",
       "      <td>4</td>\n",
       "      <td>178</td>\n",
       "    </tr>\n",
       "  </tbody>\n",
       "</table>\n",
       "</div>"
      ],
      "text/plain": [
       "   season  value_counts\n",
       "0       3           188\n",
       "1       2           184\n",
       "2       1           180\n",
       "3       4           178"
      ]
     },
     "metadata": {},
     "output_type": "display_data"
    },
    {
     "data": {
      "text/html": [
       "<div>\n",
       "<style scoped>\n",
       "    .dataframe tbody tr th:only-of-type {\n",
       "        vertical-align: middle;\n",
       "    }\n",
       "\n",
       "    .dataframe tbody tr th {\n",
       "        vertical-align: top;\n",
       "    }\n",
       "\n",
       "    .dataframe thead th {\n",
       "        text-align: right;\n",
       "    }\n",
       "</style>\n",
       "<table border=\"1\" class=\"dataframe\">\n",
       "  <thead>\n",
       "    <tr style=\"text-align: right;\">\n",
       "      <th></th>\n",
       "      <th>yr</th>\n",
       "      <th>value_counts</th>\n",
       "    </tr>\n",
       "  </thead>\n",
       "  <tbody>\n",
       "    <tr>\n",
       "      <th>0</th>\n",
       "      <td>0</td>\n",
       "      <td>365</td>\n",
       "    </tr>\n",
       "    <tr>\n",
       "      <th>1</th>\n",
       "      <td>1</td>\n",
       "      <td>365</td>\n",
       "    </tr>\n",
       "  </tbody>\n",
       "</table>\n",
       "</div>"
      ],
      "text/plain": [
       "   yr  value_counts\n",
       "0   0           365\n",
       "1   1           365"
      ]
     },
     "metadata": {},
     "output_type": "display_data"
    },
    {
     "data": {
      "text/html": [
       "<div>\n",
       "<style scoped>\n",
       "    .dataframe tbody tr th:only-of-type {\n",
       "        vertical-align: middle;\n",
       "    }\n",
       "\n",
       "    .dataframe tbody tr th {\n",
       "        vertical-align: top;\n",
       "    }\n",
       "\n",
       "    .dataframe thead th {\n",
       "        text-align: right;\n",
       "    }\n",
       "</style>\n",
       "<table border=\"1\" class=\"dataframe\">\n",
       "  <thead>\n",
       "    <tr style=\"text-align: right;\">\n",
       "      <th></th>\n",
       "      <th>mnth</th>\n",
       "      <th>value_counts</th>\n",
       "    </tr>\n",
       "  </thead>\n",
       "  <tbody>\n",
       "    <tr>\n",
       "      <th>0</th>\n",
       "      <td>1</td>\n",
       "      <td>62</td>\n",
       "    </tr>\n",
       "    <tr>\n",
       "      <th>1</th>\n",
       "      <td>3</td>\n",
       "      <td>62</td>\n",
       "    </tr>\n",
       "    <tr>\n",
       "      <th>2</th>\n",
       "      <td>5</td>\n",
       "      <td>62</td>\n",
       "    </tr>\n",
       "    <tr>\n",
       "      <th>3</th>\n",
       "      <td>7</td>\n",
       "      <td>62</td>\n",
       "    </tr>\n",
       "    <tr>\n",
       "      <th>4</th>\n",
       "      <td>8</td>\n",
       "      <td>62</td>\n",
       "    </tr>\n",
       "    <tr>\n",
       "      <th>5</th>\n",
       "      <td>10</td>\n",
       "      <td>62</td>\n",
       "    </tr>\n",
       "    <tr>\n",
       "      <th>6</th>\n",
       "      <td>12</td>\n",
       "      <td>62</td>\n",
       "    </tr>\n",
       "    <tr>\n",
       "      <th>7</th>\n",
       "      <td>4</td>\n",
       "      <td>60</td>\n",
       "    </tr>\n",
       "    <tr>\n",
       "      <th>8</th>\n",
       "      <td>6</td>\n",
       "      <td>60</td>\n",
       "    </tr>\n",
       "    <tr>\n",
       "      <th>9</th>\n",
       "      <td>9</td>\n",
       "      <td>60</td>\n",
       "    </tr>\n",
       "    <tr>\n",
       "      <th>10</th>\n",
       "      <td>11</td>\n",
       "      <td>60</td>\n",
       "    </tr>\n",
       "    <tr>\n",
       "      <th>11</th>\n",
       "      <td>2</td>\n",
       "      <td>56</td>\n",
       "    </tr>\n",
       "  </tbody>\n",
       "</table>\n",
       "</div>"
      ],
      "text/plain": [
       "    mnth  value_counts\n",
       "0      1            62\n",
       "1      3            62\n",
       "2      5            62\n",
       "3      7            62\n",
       "4      8            62\n",
       "5     10            62\n",
       "6     12            62\n",
       "7      4            60\n",
       "8      6            60\n",
       "9      9            60\n",
       "10    11            60\n",
       "11     2            56"
      ]
     },
     "metadata": {},
     "output_type": "display_data"
    },
    {
     "data": {
      "text/html": [
       "<div>\n",
       "<style scoped>\n",
       "    .dataframe tbody tr th:only-of-type {\n",
       "        vertical-align: middle;\n",
       "    }\n",
       "\n",
       "    .dataframe tbody tr th {\n",
       "        vertical-align: top;\n",
       "    }\n",
       "\n",
       "    .dataframe thead th {\n",
       "        text-align: right;\n",
       "    }\n",
       "</style>\n",
       "<table border=\"1\" class=\"dataframe\">\n",
       "  <thead>\n",
       "    <tr style=\"text-align: right;\">\n",
       "      <th></th>\n",
       "      <th>holiday</th>\n",
       "      <th>value_counts</th>\n",
       "    </tr>\n",
       "  </thead>\n",
       "  <tbody>\n",
       "    <tr>\n",
       "      <th>0</th>\n",
       "      <td>0</td>\n",
       "      <td>709</td>\n",
       "    </tr>\n",
       "    <tr>\n",
       "      <th>1</th>\n",
       "      <td>1</td>\n",
       "      <td>21</td>\n",
       "    </tr>\n",
       "  </tbody>\n",
       "</table>\n",
       "</div>"
      ],
      "text/plain": [
       "   holiday  value_counts\n",
       "0        0           709\n",
       "1        1            21"
      ]
     },
     "metadata": {},
     "output_type": "display_data"
    },
    {
     "data": {
      "text/html": [
       "<div>\n",
       "<style scoped>\n",
       "    .dataframe tbody tr th:only-of-type {\n",
       "        vertical-align: middle;\n",
       "    }\n",
       "\n",
       "    .dataframe tbody tr th {\n",
       "        vertical-align: top;\n",
       "    }\n",
       "\n",
       "    .dataframe thead th {\n",
       "        text-align: right;\n",
       "    }\n",
       "</style>\n",
       "<table border=\"1\" class=\"dataframe\">\n",
       "  <thead>\n",
       "    <tr style=\"text-align: right;\">\n",
       "      <th></th>\n",
       "      <th>weekday</th>\n",
       "      <th>value_counts</th>\n",
       "    </tr>\n",
       "  </thead>\n",
       "  <tbody>\n",
       "    <tr>\n",
       "      <th>0</th>\n",
       "      <td>0</td>\n",
       "      <td>105</td>\n",
       "    </tr>\n",
       "    <tr>\n",
       "      <th>1</th>\n",
       "      <td>1</td>\n",
       "      <td>105</td>\n",
       "    </tr>\n",
       "    <tr>\n",
       "      <th>2</th>\n",
       "      <td>6</td>\n",
       "      <td>105</td>\n",
       "    </tr>\n",
       "    <tr>\n",
       "      <th>3</th>\n",
       "      <td>2</td>\n",
       "      <td>104</td>\n",
       "    </tr>\n",
       "    <tr>\n",
       "      <th>4</th>\n",
       "      <td>4</td>\n",
       "      <td>104</td>\n",
       "    </tr>\n",
       "    <tr>\n",
       "      <th>5</th>\n",
       "      <td>5</td>\n",
       "      <td>104</td>\n",
       "    </tr>\n",
       "    <tr>\n",
       "      <th>6</th>\n",
       "      <td>3</td>\n",
       "      <td>103</td>\n",
       "    </tr>\n",
       "  </tbody>\n",
       "</table>\n",
       "</div>"
      ],
      "text/plain": [
       "   weekday  value_counts\n",
       "0        0           105\n",
       "1        1           105\n",
       "2        6           105\n",
       "3        2           104\n",
       "4        4           104\n",
       "5        5           104\n",
       "6        3           103"
      ]
     },
     "metadata": {},
     "output_type": "display_data"
    },
    {
     "data": {
      "text/html": [
       "<div>\n",
       "<style scoped>\n",
       "    .dataframe tbody tr th:only-of-type {\n",
       "        vertical-align: middle;\n",
       "    }\n",
       "\n",
       "    .dataframe tbody tr th {\n",
       "        vertical-align: top;\n",
       "    }\n",
       "\n",
       "    .dataframe thead th {\n",
       "        text-align: right;\n",
       "    }\n",
       "</style>\n",
       "<table border=\"1\" class=\"dataframe\">\n",
       "  <thead>\n",
       "    <tr style=\"text-align: right;\">\n",
       "      <th></th>\n",
       "      <th>workingday</th>\n",
       "      <th>value_counts</th>\n",
       "    </tr>\n",
       "  </thead>\n",
       "  <tbody>\n",
       "    <tr>\n",
       "      <th>0</th>\n",
       "      <td>1</td>\n",
       "      <td>499</td>\n",
       "    </tr>\n",
       "    <tr>\n",
       "      <th>1</th>\n",
       "      <td>0</td>\n",
       "      <td>231</td>\n",
       "    </tr>\n",
       "  </tbody>\n",
       "</table>\n",
       "</div>"
      ],
      "text/plain": [
       "   workingday  value_counts\n",
       "0           1           499\n",
       "1           0           231"
      ]
     },
     "metadata": {},
     "output_type": "display_data"
    },
    {
     "data": {
      "text/html": [
       "<div>\n",
       "<style scoped>\n",
       "    .dataframe tbody tr th:only-of-type {\n",
       "        vertical-align: middle;\n",
       "    }\n",
       "\n",
       "    .dataframe tbody tr th {\n",
       "        vertical-align: top;\n",
       "    }\n",
       "\n",
       "    .dataframe thead th {\n",
       "        text-align: right;\n",
       "    }\n",
       "</style>\n",
       "<table border=\"1\" class=\"dataframe\">\n",
       "  <thead>\n",
       "    <tr style=\"text-align: right;\">\n",
       "      <th></th>\n",
       "      <th>weathersit</th>\n",
       "      <th>value_counts</th>\n",
       "    </tr>\n",
       "  </thead>\n",
       "  <tbody>\n",
       "    <tr>\n",
       "      <th>0</th>\n",
       "      <td>1</td>\n",
       "      <td>463</td>\n",
       "    </tr>\n",
       "    <tr>\n",
       "      <th>1</th>\n",
       "      <td>2</td>\n",
       "      <td>246</td>\n",
       "    </tr>\n",
       "    <tr>\n",
       "      <th>2</th>\n",
       "      <td>3</td>\n",
       "      <td>21</td>\n",
       "    </tr>\n",
       "  </tbody>\n",
       "</table>\n",
       "</div>"
      ],
      "text/plain": [
       "   weathersit  value_counts\n",
       "0           1           463\n",
       "1           2           246\n",
       "2           3            21"
      ]
     },
     "metadata": {},
     "output_type": "display_data"
    }
   ],
   "source": [
    "for col in cat_vars:\n",
    "    display(df[col].value_counts().reset_index().rename(columns ={'index':col,col:'value_counts'}))"
   ]
  },
  {
   "cell_type": "markdown",
   "id": "023f90bd",
   "metadata": {
    "ExecuteTime": {
     "end_time": "2022-06-15T06:10:33.927911Z",
     "start_time": "2022-06-15T06:10:33.909958Z"
    }
   },
   "source": [
    "#### Understanding the numerical Variable"
   ]
  },
  {
   "cell_type": "code",
   "execution_count": 368,
   "id": "0348be43",
   "metadata": {
    "ExecuteTime": {
     "end_time": "2022-06-15T15:56:58.634406Z",
     "start_time": "2022-06-15T15:56:58.605485Z"
    }
   },
   "outputs": [
    {
     "data": {
      "text/html": [
       "<div>\n",
       "<style scoped>\n",
       "    .dataframe tbody tr th:only-of-type {\n",
       "        vertical-align: middle;\n",
       "    }\n",
       "\n",
       "    .dataframe tbody tr th {\n",
       "        vertical-align: top;\n",
       "    }\n",
       "\n",
       "    .dataframe thead th {\n",
       "        text-align: right;\n",
       "    }\n",
       "</style>\n",
       "<table border=\"1\" class=\"dataframe\">\n",
       "  <thead>\n",
       "    <tr style=\"text-align: right;\">\n",
       "      <th></th>\n",
       "      <th>columns</th>\n",
       "      <th>unique_count</th>\n",
       "    </tr>\n",
       "  </thead>\n",
       "  <tbody>\n",
       "    <tr>\n",
       "      <th>0</th>\n",
       "      <td>temp</td>\n",
       "      <td>498</td>\n",
       "    </tr>\n",
       "    <tr>\n",
       "      <th>1</th>\n",
       "      <td>atemp</td>\n",
       "      <td>689</td>\n",
       "    </tr>\n",
       "    <tr>\n",
       "      <th>2</th>\n",
       "      <td>hum</td>\n",
       "      <td>594</td>\n",
       "    </tr>\n",
       "    <tr>\n",
       "      <th>3</th>\n",
       "      <td>windspeed</td>\n",
       "      <td>649</td>\n",
       "    </tr>\n",
       "    <tr>\n",
       "      <th>4</th>\n",
       "      <td>cnt</td>\n",
       "      <td>695</td>\n",
       "    </tr>\n",
       "  </tbody>\n",
       "</table>\n",
       "</div>"
      ],
      "text/plain": [
       "     columns  unique_count\n",
       "0       temp           498\n",
       "1      atemp           689\n",
       "2        hum           594\n",
       "3  windspeed           649\n",
       "4        cnt           695"
      ]
     },
     "execution_count": 368,
     "metadata": {},
     "output_type": "execute_result"
    }
   ],
   "source": [
    "num_vars = ['temp','atemp','hum','windspeed','cnt']\n",
    "df_variance_num = pd.DataFrame()\n",
    "cols_list_num = [col for col in num_vars]\n",
    "df_variance_num['columns'] = cols_list_num\n",
    "df_variance_num['unique_count'] = [df[col].nunique() for col in cols_list_num]\n",
    "df_variance_num"
   ]
  },
  {
   "cell_type": "markdown",
   "id": "58e48a11",
   "metadata": {},
   "source": [
    "### Inference\n",
    "\n",
    "- the data has 16 attributes.\n",
    "- there are 730 records at \"instant\" and \"dteday\" level. (these columns act as serial no. for the dataset here)\n",
    "- there are no nulls in the data \n",
    "- there exists 7 categorical variables in the dataset.\n",
    "- cat_vars = ['season','yr','mnth', 'holiday','weekday','workingday','weathersit']\n",
    "- num_vars = ['temp','atemp','hum','windspeed']\n",
    "- vars_not_available_for_training = ['casual','registered'] these might cause data leakage\n",
    "- target_var = 'cnt' \n",
    "- The unique values in numerical variables justify the variance in data.\n",
    "- few of the categorical variables are non-binary , hence we should explore ways of encoding."
   ]
  },
  {
   "cell_type": "markdown",
   "id": "ed660488",
   "metadata": {},
   "source": [
    "### Dropping irrelevant variables "
   ]
  },
  {
   "cell_type": "code",
   "execution_count": 369,
   "id": "7405efda",
   "metadata": {
    "ExecuteTime": {
     "end_time": "2022-06-15T15:56:59.884904Z",
     "start_time": "2022-06-15T15:56:59.855983Z"
    }
   },
   "outputs": [],
   "source": [
    "df.drop(columns = ['instant','dteday','registered','casual'],inplace=True)\n",
    "## these variables act as record level serail numbers for the data or are variables causing data leakage"
   ]
  },
  {
   "cell_type": "markdown",
   "id": "abb3eb2a",
   "metadata": {},
   "source": [
    "### Understanding the correlation amongst variables"
   ]
  },
  {
   "cell_type": "code",
   "execution_count": 370,
   "id": "6aa0d918",
   "metadata": {
    "ExecuteTime": {
     "end_time": "2022-06-15T15:57:01.177495Z",
     "start_time": "2022-06-15T15:57:01.149964Z"
    }
   },
   "outputs": [
    {
     "data": {
      "text/html": [
       "<div>\n",
       "<style scoped>\n",
       "    .dataframe tbody tr th:only-of-type {\n",
       "        vertical-align: middle;\n",
       "    }\n",
       "\n",
       "    .dataframe tbody tr th {\n",
       "        vertical-align: top;\n",
       "    }\n",
       "\n",
       "    .dataframe thead th {\n",
       "        text-align: right;\n",
       "    }\n",
       "</style>\n",
       "<table border=\"1\" class=\"dataframe\">\n",
       "  <thead>\n",
       "    <tr style=\"text-align: right;\">\n",
       "      <th></th>\n",
       "      <th>index</th>\n",
       "      <th>cnt</th>\n",
       "      <th>cnt_abs</th>\n",
       "    </tr>\n",
       "  </thead>\n",
       "  <tbody>\n",
       "    <tr>\n",
       "      <th>11</th>\n",
       "      <td>cnt</td>\n",
       "      <td>1.000000</td>\n",
       "      <td>1.000000</td>\n",
       "    </tr>\n",
       "    <tr>\n",
       "      <th>8</th>\n",
       "      <td>atemp</td>\n",
       "      <td>0.630685</td>\n",
       "      <td>0.630685</td>\n",
       "    </tr>\n",
       "    <tr>\n",
       "      <th>7</th>\n",
       "      <td>temp</td>\n",
       "      <td>0.627044</td>\n",
       "      <td>0.627044</td>\n",
       "    </tr>\n",
       "    <tr>\n",
       "      <th>1</th>\n",
       "      <td>yr</td>\n",
       "      <td>0.569728</td>\n",
       "      <td>0.569728</td>\n",
       "    </tr>\n",
       "    <tr>\n",
       "      <th>0</th>\n",
       "      <td>season</td>\n",
       "      <td>0.404584</td>\n",
       "      <td>0.404584</td>\n",
       "    </tr>\n",
       "    <tr>\n",
       "      <th>6</th>\n",
       "      <td>weathersit</td>\n",
       "      <td>-0.295929</td>\n",
       "      <td>0.295929</td>\n",
       "    </tr>\n",
       "    <tr>\n",
       "      <th>2</th>\n",
       "      <td>mnth</td>\n",
       "      <td>0.278191</td>\n",
       "      <td>0.278191</td>\n",
       "    </tr>\n",
       "    <tr>\n",
       "      <th>10</th>\n",
       "      <td>windspeed</td>\n",
       "      <td>-0.235132</td>\n",
       "      <td>0.235132</td>\n",
       "    </tr>\n",
       "    <tr>\n",
       "      <th>9</th>\n",
       "      <td>hum</td>\n",
       "      <td>-0.098543</td>\n",
       "      <td>0.098543</td>\n",
       "    </tr>\n",
       "    <tr>\n",
       "      <th>3</th>\n",
       "      <td>holiday</td>\n",
       "      <td>-0.068764</td>\n",
       "      <td>0.068764</td>\n",
       "    </tr>\n",
       "    <tr>\n",
       "      <th>4</th>\n",
       "      <td>weekday</td>\n",
       "      <td>0.067534</td>\n",
       "      <td>0.067534</td>\n",
       "    </tr>\n",
       "    <tr>\n",
       "      <th>5</th>\n",
       "      <td>workingday</td>\n",
       "      <td>0.062542</td>\n",
       "      <td>0.062542</td>\n",
       "    </tr>\n",
       "  </tbody>\n",
       "</table>\n",
       "</div>"
      ],
      "text/plain": [
       "         index       cnt   cnt_abs\n",
       "11         cnt  1.000000  1.000000\n",
       "8        atemp  0.630685  0.630685\n",
       "7         temp  0.627044  0.627044\n",
       "1           yr  0.569728  0.569728\n",
       "0       season  0.404584  0.404584\n",
       "6   weathersit -0.295929  0.295929\n",
       "2         mnth  0.278191  0.278191\n",
       "10   windspeed -0.235132  0.235132\n",
       "9          hum -0.098543  0.098543\n",
       "3      holiday -0.068764  0.068764\n",
       "4      weekday  0.067534  0.067534\n",
       "5   workingday  0.062542  0.062542"
      ]
     },
     "execution_count": 370,
     "metadata": {},
     "output_type": "execute_result"
    }
   ],
   "source": [
    "corr_matrix = df.corr()\n",
    "corr_matrix = corr_matrix.reset_index()\n",
    "corr_matrix[\"cnt_abs\"] = np.abs(corr_matrix[\"cnt\"])\n",
    "corr_matrix[[\"index\",\"cnt\",\"cnt_abs\"]].sort_values(\"cnt_abs\",ascending= False)"
   ]
  },
  {
   "cell_type": "markdown",
   "id": "764ace54",
   "metadata": {
    "ExecuteTime": {
     "end_time": "2022-06-15T05:56:51.854531Z",
     "start_time": "2022-06-15T05:56:51.848007Z"
    }
   },
   "source": [
    "### Data Visualization"
   ]
  },
  {
   "cell_type": "code",
   "execution_count": 371,
   "id": "77546439",
   "metadata": {
    "ExecuteTime": {
     "end_time": "2022-06-15T15:57:11.319877Z",
     "start_time": "2022-06-15T15:57:02.081723Z"
    },
    "scrolled": true
   },
   "outputs": [
    {
     "data": {
      "text/plain": [
       "<seaborn.axisgrid.PairGrid at 0x236ec714f40>"
      ]
     },
     "execution_count": 371,
     "metadata": {},
     "output_type": "execute_result"
    },
    {
     "data": {
      "image/png": "[encoded data removed]",
      "text/plain": [
       "<Figure size 900x900 with 30 Axes>"
      ]
     },
     "metadata": {
      "needs_background": "light"
     },
     "output_type": "display_data"
    }
   ],
   "source": [
    "sns.pairplot(df[['temp','atemp','hum','windspeed','cnt']],  diag_kind=\"hist\")"
   ]
  },
  {
   "cell_type": "code",
   "execution_count": 372,
   "id": "bc981a27",
   "metadata": {
    "ExecuteTime": {
     "end_time": "2022-06-15T15:57:13.275716Z",
     "start_time": "2022-06-15T15:57:11.321773Z"
    },
    "scrolled": false
   },
   "outputs": [
    {
     "data": {
      "image/png": "[encoded data removed]",
      "text/plain": [
       "<Figure size 432x288 with 1 Axes>"
      ]
     },
     "metadata": {
      "needs_background": "light"
     },
     "output_type": "display_data"
    },
    {
     "data": {
      "image/png": "[encoded data removed]",
      "text/plain": [
       "<Figure size 432x288 with 1 Axes>"
      ]
     },
     "metadata": {
      "needs_background": "light"
     },
     "output_type": "display_data"
    },
    {
     "data": {
      "image/png": "[encoded data removed]",
      "text/plain": [
       "<Figure size 432x288 with 1 Axes>"
      ]
     },
     "metadata": {
      "needs_background": "light"
     },
     "output_type": "display_data"
    },
    {
     "data": {
      "image/png": "[encoded data removed]",
      "text/plain": [
       "<Figure size 432x288 with 1 Axes>"
      ]
     },
     "metadata": {
      "needs_background": "light"
     },
     "output_type": "display_data"
    },
    {
     "data": {
      "image/png": "[encoded data removed]",
      "text/plain": [
       "<Figure size 432x288 with 1 Axes>"
      ]
     },
     "metadata": {
      "needs_background": "light"
     },
     "output_type": "display_data"
    },
    {
     "data": {
      "image/png": "[encoded data removed]",
      "text/plain": [
       "<Figure size 432x288 with 1 Axes>"
      ]
     },
     "metadata": {
      "needs_background": "light"
     },
     "output_type": "display_data"
    },
    {
     "data": {
      "image/png": "[encoded data removed]",
      "text/plain": [
       "<Figure size 432x288 with 1 Axes>"
      ]
     },
     "metadata": {
      "needs_background": "light"
     },
     "output_type": "display_data"
    }
   ],
   "source": [
    "for column in cat_vars:\n",
    "    plt.figure()\n",
    "    sns.boxplot(x=column, y=\"cnt\", data=df)\n"
   ]
  },
  {
   "cell_type": "markdown",
   "id": "6f418819",
   "metadata": {},
   "source": [
    "#### Inference\n",
    "- Most of the numerical variables are approximately following a normal distribution\n",
    "- The median demand for shared bikes has gone up for 2019\n",
    "- The median demand for shared bikes is comparatively high during falls\n",
    "- The demand follows a similar pattern across all days of the week.\n",
    "- The median demand is higher on clearer days\n",
    "- We dont see data having weather situations = \"heavy rain\"\n",
    "- atemp has the highest correlation with the target variable"
   ]
  },
  {
   "cell_type": "markdown",
   "id": "a161270c",
   "metadata": {
    "ExecuteTime": {
     "end_time": "2022-06-15T08:46:18.048869Z",
     "start_time": "2022-06-15T08:46:18.037873Z"
    }
   },
   "source": [
    "### Preparing the data for Modelling"
   ]
  },
  {
   "cell_type": "markdown",
   "id": "18aa028f",
   "metadata": {
    "ExecuteTime": {
     "end_time": "2022-06-15T08:58:57.173717Z",
     "start_time": "2022-06-15T08:58:57.165738Z"
    }
   },
   "source": [
    "#### Treating the categorical variables \n",
    "- We will be using pd.dummy for encoding the categorical variables.\n",
    "- Using drop_first = True to limit irrelevant variables\n",
    "- the weathersit has only three categories in data\n",
    "- there are total 7 categorical variables but 3 of them have binary data inside"
   ]
  },
  {
   "cell_type": "code",
   "execution_count": 373,
   "id": "e1e24577",
   "metadata": {
    "ExecuteTime": {
     "end_time": "2022-06-15T15:57:15.160699Z",
     "start_time": "2022-06-15T15:57:15.069669Z"
    },
    "scrolled": true
   },
   "outputs": [
    {
     "data": {
      "text/html": [
       "<div>\n",
       "<style scoped>\n",
       "    .dataframe tbody tr th:only-of-type {\n",
       "        vertical-align: middle;\n",
       "    }\n",
       "\n",
       "    .dataframe tbody tr th {\n",
       "        vertical-align: top;\n",
       "    }\n",
       "\n",
       "    .dataframe thead th {\n",
       "        text-align: right;\n",
       "    }\n",
       "</style>\n",
       "<table border=\"1\" class=\"dataframe\">\n",
       "  <thead>\n",
       "    <tr style=\"text-align: right;\">\n",
       "      <th></th>\n",
       "      <th>yr</th>\n",
       "      <th>holiday</th>\n",
       "      <th>workingday</th>\n",
       "      <th>temp</th>\n",
       "      <th>atemp</th>\n",
       "      <th>hum</th>\n",
       "      <th>windspeed</th>\n",
       "      <th>cnt</th>\n",
       "      <th>summer</th>\n",
       "      <th>fall</th>\n",
       "      <th>winter</th>\n",
       "      <th>tuesday</th>\n",
       "      <th>wednesday</th>\n",
       "      <th>thursday</th>\n",
       "      <th>friday</th>\n",
       "      <th>saturday</th>\n",
       "      <th>sunday</th>\n",
       "      <th>February</th>\n",
       "      <th>March</th>\n",
       "      <th>April</th>\n",
       "      <th>May</th>\n",
       "      <th>June</th>\n",
       "      <th>July</th>\n",
       "      <th>August</th>\n",
       "      <th>September</th>\n",
       "      <th>October</th>\n",
       "      <th>November</th>\n",
       "      <th>December</th>\n",
       "      <th>mist</th>\n",
       "      <th>light_snow</th>\n",
       "    </tr>\n",
       "  </thead>\n",
       "  <tbody>\n",
       "    <tr>\n",
       "      <th>0</th>\n",
       "      <td>0</td>\n",
       "      <td>0</td>\n",
       "      <td>0</td>\n",
       "      <td>14.110847</td>\n",
       "      <td>18.18125</td>\n",
       "      <td>80.5833</td>\n",
       "      <td>10.749882</td>\n",
       "      <td>985</td>\n",
       "      <td>0</td>\n",
       "      <td>0</td>\n",
       "      <td>0</td>\n",
       "      <td>0</td>\n",
       "      <td>0</td>\n",
       "      <td>0</td>\n",
       "      <td>0</td>\n",
       "      <td>0</td>\n",
       "      <td>1</td>\n",
       "      <td>0</td>\n",
       "      <td>0</td>\n",
       "      <td>0</td>\n",
       "      <td>0</td>\n",
       "      <td>0</td>\n",
       "      <td>0</td>\n",
       "      <td>0</td>\n",
       "      <td>0</td>\n",
       "      <td>0</td>\n",
       "      <td>0</td>\n",
       "      <td>0</td>\n",
       "      <td>1</td>\n",
       "      <td>0</td>\n",
       "    </tr>\n",
       "    <tr>\n",
       "      <th>1</th>\n",
       "      <td>0</td>\n",
       "      <td>0</td>\n",
       "      <td>0</td>\n",
       "      <td>14.902598</td>\n",
       "      <td>17.68695</td>\n",
       "      <td>69.6087</td>\n",
       "      <td>16.652113</td>\n",
       "      <td>801</td>\n",
       "      <td>0</td>\n",
       "      <td>0</td>\n",
       "      <td>0</td>\n",
       "      <td>0</td>\n",
       "      <td>0</td>\n",
       "      <td>0</td>\n",
       "      <td>0</td>\n",
       "      <td>0</td>\n",
       "      <td>0</td>\n",
       "      <td>0</td>\n",
       "      <td>0</td>\n",
       "      <td>0</td>\n",
       "      <td>0</td>\n",
       "      <td>0</td>\n",
       "      <td>0</td>\n",
       "      <td>0</td>\n",
       "      <td>0</td>\n",
       "      <td>0</td>\n",
       "      <td>0</td>\n",
       "      <td>0</td>\n",
       "      <td>1</td>\n",
       "      <td>0</td>\n",
       "    </tr>\n",
       "    <tr>\n",
       "      <th>2</th>\n",
       "      <td>0</td>\n",
       "      <td>0</td>\n",
       "      <td>1</td>\n",
       "      <td>8.050924</td>\n",
       "      <td>9.47025</td>\n",
       "      <td>43.7273</td>\n",
       "      <td>16.636703</td>\n",
       "      <td>1349</td>\n",
       "      <td>0</td>\n",
       "      <td>0</td>\n",
       "      <td>0</td>\n",
       "      <td>1</td>\n",
       "      <td>0</td>\n",
       "      <td>0</td>\n",
       "      <td>0</td>\n",
       "      <td>0</td>\n",
       "      <td>0</td>\n",
       "      <td>0</td>\n",
       "      <td>0</td>\n",
       "      <td>0</td>\n",
       "      <td>0</td>\n",
       "      <td>0</td>\n",
       "      <td>0</td>\n",
       "      <td>0</td>\n",
       "      <td>0</td>\n",
       "      <td>0</td>\n",
       "      <td>0</td>\n",
       "      <td>0</td>\n",
       "      <td>0</td>\n",
       "      <td>0</td>\n",
       "    </tr>\n",
       "    <tr>\n",
       "      <th>3</th>\n",
       "      <td>0</td>\n",
       "      <td>0</td>\n",
       "      <td>1</td>\n",
       "      <td>8.200000</td>\n",
       "      <td>10.60610</td>\n",
       "      <td>59.0435</td>\n",
       "      <td>10.739832</td>\n",
       "      <td>1562</td>\n",
       "      <td>0</td>\n",
       "      <td>0</td>\n",
       "      <td>0</td>\n",
       "      <td>0</td>\n",
       "      <td>1</td>\n",
       "      <td>0</td>\n",
       "      <td>0</td>\n",
       "      <td>0</td>\n",
       "      <td>0</td>\n",
       "      <td>0</td>\n",
       "      <td>0</td>\n",
       "      <td>0</td>\n",
       "      <td>0</td>\n",
       "      <td>0</td>\n",
       "      <td>0</td>\n",
       "      <td>0</td>\n",
       "      <td>0</td>\n",
       "      <td>0</td>\n",
       "      <td>0</td>\n",
       "      <td>0</td>\n",
       "      <td>0</td>\n",
       "      <td>0</td>\n",
       "    </tr>\n",
       "    <tr>\n",
       "      <th>4</th>\n",
       "      <td>0</td>\n",
       "      <td>0</td>\n",
       "      <td>1</td>\n",
       "      <td>9.305237</td>\n",
       "      <td>11.46350</td>\n",
       "      <td>43.6957</td>\n",
       "      <td>12.522300</td>\n",
       "      <td>1600</td>\n",
       "      <td>0</td>\n",
       "      <td>0</td>\n",
       "      <td>0</td>\n",
       "      <td>0</td>\n",
       "      <td>0</td>\n",
       "      <td>1</td>\n",
       "      <td>0</td>\n",
       "      <td>0</td>\n",
       "      <td>0</td>\n",
       "      <td>0</td>\n",
       "      <td>0</td>\n",
       "      <td>0</td>\n",
       "      <td>0</td>\n",
       "      <td>0</td>\n",
       "      <td>0</td>\n",
       "      <td>0</td>\n",
       "      <td>0</td>\n",
       "      <td>0</td>\n",
       "      <td>0</td>\n",
       "      <td>0</td>\n",
       "      <td>0</td>\n",
       "      <td>0</td>\n",
       "    </tr>\n",
       "  </tbody>\n",
       "</table>\n",
       "</div>"
      ],
      "text/plain": [
       "   yr  holiday  workingday       temp     atemp      hum  windspeed   cnt  \\\n",
       "0   0        0           0  14.110847  18.18125  80.5833  10.749882   985   \n",
       "1   0        0           0  14.902598  17.68695  69.6087  16.652113   801   \n",
       "2   0        0           1   8.050924   9.47025  43.7273  16.636703  1349   \n",
       "3   0        0           1   8.200000  10.60610  59.0435  10.739832  1562   \n",
       "4   0        0           1   9.305237  11.46350  43.6957  12.522300  1600   \n",
       "\n",
       "   summer  fall  winter  tuesday  wednesday  thursday  friday  saturday  \\\n",
       "0       0     0       0        0          0         0       0         0   \n",
       "1       0     0       0        0          0         0       0         0   \n",
       "2       0     0       0        1          0         0       0         0   \n",
       "3       0     0       0        0          1         0       0         0   \n",
       "4       0     0       0        0          0         1       0         0   \n",
       "\n",
       "   sunday  February  March  April  May  June  July  August  September  \\\n",
       "0       1         0      0      0    0     0     0       0          0   \n",
       "1       0         0      0      0    0     0     0       0          0   \n",
       "2       0         0      0      0    0     0     0       0          0   \n",
       "3       0         0      0      0    0     0     0       0          0   \n",
       "4       0         0      0      0    0     0     0       0          0   \n",
       "\n",
       "   October  November  December  mist  light_snow  \n",
       "0        0         0         0     1           0  \n",
       "1        0         0         0     1           0  \n",
       "2        0         0         0     0           0  \n",
       "3        0         0         0     0           0  \n",
       "4        0         0         0     0           0  "
      ]
     },
     "execution_count": 373,
     "metadata": {},
     "output_type": "execute_result"
    }
   ],
   "source": [
    "season = pd.get_dummies(df['season'], drop_first = True).rename(columns = { 2 : 'summer' , 3 : 'fall' , 4 : 'winter'})\n",
    "weekday = pd.get_dummies(df['weekday'], drop_first = True).rename(columns = { 1 : 'tuesday' , 2 : 'wednesday', 3:'thursday' , 4 : 'friday' , 5 : 'saturday' , 6 : 'sunday'})\n",
    "weathersit = pd.get_dummies(df['weathersit'], drop_first = True).rename(columns = { 2 : 'mist', 3 : 'light_snow' , 4 : 'heavy_rain'})\n",
    "#### for getting all months and index in a dictionary which we are using for renaming\n",
    "import calendar\n",
    "months =  list(calendar.month_name)\n",
    "dict1 = dict(map(reversed, enumerate(months)))\n",
    "for key in list(calendar.month_name)[:2]: \n",
    "    dict1.pop(key)\n",
    "dict1 = {v: k for k, v in dict1.items()}    \n",
    "months = pd.get_dummies(df['mnth'], drop_first = True).rename(columns = dict1)\n",
    "\n",
    "#### concatenating the dummy dfs and dropping the four categorical vars\n",
    "df = pd.concat([df , season,weekday , months,weathersit ], axis = 1)\n",
    "df.drop (columns = ['season' , 'weekday' , 'weathersit' , 'mnth'],inplace = True)\n",
    "df.head()"
   ]
  },
  {
   "cell_type": "markdown",
   "id": "da038582",
   "metadata": {},
   "source": [
    "#### Train-test split"
   ]
  },
  {
   "cell_type": "code",
   "execution_count": 374,
   "id": "00a4f874",
   "metadata": {
    "ExecuteTime": {
     "end_time": "2022-06-15T15:57:29.251707Z",
     "start_time": "2022-06-15T15:57:29.223609Z"
    }
   },
   "outputs": [],
   "source": [
    "# We specify this so that the train and test data set always have the same rows, respectively\n",
    "df_train, df_test = train_test_split(df, train_size = 0.7, test_size = 0.3, random_state = 100)"
   ]
  },
  {
   "cell_type": "markdown",
   "id": "48ecba9b",
   "metadata": {},
   "source": [
    "#### Standardisating the model variables"
   ]
  },
  {
   "cell_type": "code",
   "execution_count": 375,
   "id": "30abef17",
   "metadata": {
    "ExecuteTime": {
     "end_time": "2022-06-15T15:57:30.654793Z",
     "start_time": "2022-06-15T15:57:30.603641Z"
    }
   },
   "outputs": [],
   "source": [
    "### we are using standard scaler for rescaling the numerical variables\n",
    "scaler = StandardScaler()\n",
    "df_train[num_vars] = scaler.fit_transform(df_train[num_vars])\n",
    "df_test[num_vars] = scaler.transform(df_test[num_vars])"
   ]
  },
  {
   "cell_type": "markdown",
   "id": "e9ed27a1",
   "metadata": {
    "ExecuteTime": {
     "end_time": "2022-06-15T14:14:31.813203Z",
     "start_time": "2022-06-15T14:11:46.137Z"
    }
   },
   "source": [
    "#### Visualising the data to understand the linearity in the model"
   ]
  },
  {
   "cell_type": "code",
   "execution_count": 376,
   "id": "c816b31b",
   "metadata": {
    "ExecuteTime": {
     "end_time": "2022-06-15T15:57:31.764393Z",
     "start_time": "2022-06-15T15:57:31.722776Z"
    }
   },
   "outputs": [
    {
     "data": {
      "text/html": [
       "<div>\n",
       "<style scoped>\n",
       "    .dataframe tbody tr th:only-of-type {\n",
       "        vertical-align: middle;\n",
       "    }\n",
       "\n",
       "    .dataframe tbody tr th {\n",
       "        vertical-align: top;\n",
       "    }\n",
       "\n",
       "    .dataframe thead th {\n",
       "        text-align: right;\n",
       "    }\n",
       "</style>\n",
       "<table border=\"1\" class=\"dataframe\">\n",
       "  <thead>\n",
       "    <tr style=\"text-align: right;\">\n",
       "      <th></th>\n",
       "      <th>yr</th>\n",
       "      <th>holiday</th>\n",
       "      <th>workingday</th>\n",
       "      <th>temp</th>\n",
       "      <th>atemp</th>\n",
       "      <th>hum</th>\n",
       "      <th>windspeed</th>\n",
       "      <th>cnt</th>\n",
       "      <th>summer</th>\n",
       "      <th>fall</th>\n",
       "      <th>winter</th>\n",
       "      <th>tuesday</th>\n",
       "      <th>wednesday</th>\n",
       "      <th>thursday</th>\n",
       "      <th>friday</th>\n",
       "      <th>saturday</th>\n",
       "      <th>sunday</th>\n",
       "      <th>February</th>\n",
       "      <th>March</th>\n",
       "      <th>April</th>\n",
       "      <th>May</th>\n",
       "      <th>June</th>\n",
       "      <th>July</th>\n",
       "      <th>August</th>\n",
       "      <th>September</th>\n",
       "      <th>October</th>\n",
       "      <th>November</th>\n",
       "      <th>December</th>\n",
       "      <th>mist</th>\n",
       "      <th>light_snow</th>\n",
       "    </tr>\n",
       "  </thead>\n",
       "  <tbody>\n",
       "    <tr>\n",
       "      <th>653</th>\n",
       "      <td>1</td>\n",
       "      <td>0</td>\n",
       "      <td>1</td>\n",
       "      <td>-0.121335</td>\n",
       "      <td>-0.055878</td>\n",
       "      <td>-0.514725</td>\n",
       "      <td>-0.117752</td>\n",
       "      <td>1.562685</td>\n",
       "      <td>0</td>\n",
       "      <td>0</td>\n",
       "      <td>1</td>\n",
       "      <td>0</td>\n",
       "      <td>1</td>\n",
       "      <td>0</td>\n",
       "      <td>0</td>\n",
       "      <td>0</td>\n",
       "      <td>0</td>\n",
       "      <td>0</td>\n",
       "      <td>0</td>\n",
       "      <td>0</td>\n",
       "      <td>0</td>\n",
       "      <td>0</td>\n",
       "      <td>0</td>\n",
       "      <td>0</td>\n",
       "      <td>0</td>\n",
       "      <td>1</td>\n",
       "      <td>0</td>\n",
       "      <td>0</td>\n",
       "      <td>0</td>\n",
       "      <td>0</td>\n",
       "    </tr>\n",
       "    <tr>\n",
       "      <th>576</th>\n",
       "      <td>1</td>\n",
       "      <td>0</td>\n",
       "      <td>1</td>\n",
       "      <td>1.231731</td>\n",
       "      <td>1.194106</td>\n",
       "      <td>0.516433</td>\n",
       "      <td>-0.330615</td>\n",
       "      <td>1.399629</td>\n",
       "      <td>0</td>\n",
       "      <td>1</td>\n",
       "      <td>0</td>\n",
       "      <td>0</td>\n",
       "      <td>1</td>\n",
       "      <td>0</td>\n",
       "      <td>0</td>\n",
       "      <td>0</td>\n",
       "      <td>0</td>\n",
       "      <td>0</td>\n",
       "      <td>0</td>\n",
       "      <td>0</td>\n",
       "      <td>0</td>\n",
       "      <td>0</td>\n",
       "      <td>1</td>\n",
       "      <td>0</td>\n",
       "      <td>0</td>\n",
       "      <td>0</td>\n",
       "      <td>0</td>\n",
       "      <td>0</td>\n",
       "      <td>0</td>\n",
       "      <td>0</td>\n",
       "    </tr>\n",
       "    <tr>\n",
       "      <th>426</th>\n",
       "      <td>1</td>\n",
       "      <td>0</td>\n",
       "      <td>0</td>\n",
       "      <td>-0.420478</td>\n",
       "      <td>-0.348834</td>\n",
       "      <td>-0.069854</td>\n",
       "      <td>-0.385694</td>\n",
       "      <td>-0.215554</td>\n",
       "      <td>0</td>\n",
       "      <td>0</td>\n",
       "      <td>0</td>\n",
       "      <td>0</td>\n",
       "      <td>0</td>\n",
       "      <td>0</td>\n",
       "      <td>0</td>\n",
       "      <td>0</td>\n",
       "      <td>1</td>\n",
       "      <td>0</td>\n",
       "      <td>1</td>\n",
       "      <td>0</td>\n",
       "      <td>0</td>\n",
       "      <td>0</td>\n",
       "      <td>0</td>\n",
       "      <td>0</td>\n",
       "      <td>0</td>\n",
       "      <td>0</td>\n",
       "      <td>0</td>\n",
       "      <td>0</td>\n",
       "      <td>1</td>\n",
       "      <td>0</td>\n",
       "    </tr>\n",
       "    <tr>\n",
       "      <th>728</th>\n",
       "      <td>1</td>\n",
       "      <td>0</td>\n",
       "      <td>0</td>\n",
       "      <td>-1.294913</td>\n",
       "      <td>-1.473492</td>\n",
       "      <td>-1.045032</td>\n",
       "      <td>2.018143</td>\n",
       "      <td>-1.379511</td>\n",
       "      <td>0</td>\n",
       "      <td>0</td>\n",
       "      <td>0</td>\n",
       "      <td>0</td>\n",
       "      <td>0</td>\n",
       "      <td>0</td>\n",
       "      <td>0</td>\n",
       "      <td>0</td>\n",
       "      <td>0</td>\n",
       "      <td>0</td>\n",
       "      <td>0</td>\n",
       "      <td>0</td>\n",
       "      <td>0</td>\n",
       "      <td>0</td>\n",
       "      <td>0</td>\n",
       "      <td>0</td>\n",
       "      <td>0</td>\n",
       "      <td>0</td>\n",
       "      <td>0</td>\n",
       "      <td>1</td>\n",
       "      <td>0</td>\n",
       "      <td>0</td>\n",
       "    </tr>\n",
       "    <tr>\n",
       "      <th>482</th>\n",
       "      <td>1</td>\n",
       "      <td>0</td>\n",
       "      <td>0</td>\n",
       "      <td>-0.627580</td>\n",
       "      <td>-0.571474</td>\n",
       "      <td>-1.000840</td>\n",
       "      <td>-0.779889</td>\n",
       "      <td>-0.136589</td>\n",
       "      <td>1</td>\n",
       "      <td>0</td>\n",
       "      <td>0</td>\n",
       "      <td>0</td>\n",
       "      <td>0</td>\n",
       "      <td>0</td>\n",
       "      <td>0</td>\n",
       "      <td>0</td>\n",
       "      <td>1</td>\n",
       "      <td>0</td>\n",
       "      <td>0</td>\n",
       "      <td>1</td>\n",
       "      <td>0</td>\n",
       "      <td>0</td>\n",
       "      <td>0</td>\n",
       "      <td>0</td>\n",
       "      <td>0</td>\n",
       "      <td>0</td>\n",
       "      <td>0</td>\n",
       "      <td>0</td>\n",
       "      <td>1</td>\n",
       "      <td>0</td>\n",
       "    </tr>\n",
       "    <tr>\n",
       "      <th>...</th>\n",
       "      <td>...</td>\n",
       "      <td>...</td>\n",
       "      <td>...</td>\n",
       "      <td>...</td>\n",
       "      <td>...</td>\n",
       "      <td>...</td>\n",
       "      <td>...</td>\n",
       "      <td>...</td>\n",
       "      <td>...</td>\n",
       "      <td>...</td>\n",
       "      <td>...</td>\n",
       "      <td>...</td>\n",
       "      <td>...</td>\n",
       "      <td>...</td>\n",
       "      <td>...</td>\n",
       "      <td>...</td>\n",
       "      <td>...</td>\n",
       "      <td>...</td>\n",
       "      <td>...</td>\n",
       "      <td>...</td>\n",
       "      <td>...</td>\n",
       "      <td>...</td>\n",
       "      <td>...</td>\n",
       "      <td>...</td>\n",
       "      <td>...</td>\n",
       "      <td>...</td>\n",
       "      <td>...</td>\n",
       "      <td>...</td>\n",
       "      <td>...</td>\n",
       "      <td>...</td>\n",
       "    </tr>\n",
       "    <tr>\n",
       "      <th>526</th>\n",
       "      <td>1</td>\n",
       "      <td>0</td>\n",
       "      <td>1</td>\n",
       "      <td>1.273152</td>\n",
       "      <td>1.174464</td>\n",
       "      <td>-0.305544</td>\n",
       "      <td>0.205320</td>\n",
       "      <td>1.116587</td>\n",
       "      <td>1</td>\n",
       "      <td>0</td>\n",
       "      <td>0</td>\n",
       "      <td>1</td>\n",
       "      <td>0</td>\n",
       "      <td>0</td>\n",
       "      <td>0</td>\n",
       "      <td>0</td>\n",
       "      <td>0</td>\n",
       "      <td>0</td>\n",
       "      <td>0</td>\n",
       "      <td>0</td>\n",
       "      <td>0</td>\n",
       "      <td>1</td>\n",
       "      <td>0</td>\n",
       "      <td>0</td>\n",
       "      <td>0</td>\n",
       "      <td>0</td>\n",
       "      <td>0</td>\n",
       "      <td>0</td>\n",
       "      <td>1</td>\n",
       "      <td>0</td>\n",
       "    </tr>\n",
       "    <tr>\n",
       "      <th>578</th>\n",
       "      <td>1</td>\n",
       "      <td>0</td>\n",
       "      <td>1</td>\n",
       "      <td>1.448040</td>\n",
       "      <td>1.467501</td>\n",
       "      <td>0.201190</td>\n",
       "      <td>-0.787759</td>\n",
       "      <td>1.422703</td>\n",
       "      <td>0</td>\n",
       "      <td>1</td>\n",
       "      <td>0</td>\n",
       "      <td>0</td>\n",
       "      <td>0</td>\n",
       "      <td>0</td>\n",
       "      <td>1</td>\n",
       "      <td>0</td>\n",
       "      <td>0</td>\n",
       "      <td>0</td>\n",
       "      <td>0</td>\n",
       "      <td>0</td>\n",
       "      <td>0</td>\n",
       "      <td>0</td>\n",
       "      <td>0</td>\n",
       "      <td>1</td>\n",
       "      <td>0</td>\n",
       "      <td>0</td>\n",
       "      <td>0</td>\n",
       "      <td>0</td>\n",
       "      <td>0</td>\n",
       "      <td>0</td>\n",
       "    </tr>\n",
       "    <tr>\n",
       "      <th>53</th>\n",
       "      <td>0</td>\n",
       "      <td>0</td>\n",
       "      <td>1</td>\n",
       "      <td>-1.483204</td>\n",
       "      <td>-1.386775</td>\n",
       "      <td>-1.471329</td>\n",
       "      <td>-1.234384</td>\n",
       "      <td>-1.317467</td>\n",
       "      <td>0</td>\n",
       "      <td>0</td>\n",
       "      <td>0</td>\n",
       "      <td>0</td>\n",
       "      <td>0</td>\n",
       "      <td>1</td>\n",
       "      <td>0</td>\n",
       "      <td>0</td>\n",
       "      <td>0</td>\n",
       "      <td>1</td>\n",
       "      <td>0</td>\n",
       "      <td>0</td>\n",
       "      <td>0</td>\n",
       "      <td>0</td>\n",
       "      <td>0</td>\n",
       "      <td>0</td>\n",
       "      <td>0</td>\n",
       "      <td>0</td>\n",
       "      <td>0</td>\n",
       "      <td>0</td>\n",
       "      <td>0</td>\n",
       "      <td>0</td>\n",
       "    </tr>\n",
       "    <tr>\n",
       "      <th>350</th>\n",
       "      <td>0</td>\n",
       "      <td>0</td>\n",
       "      <td>0</td>\n",
       "      <td>-1.281106</td>\n",
       "      <td>-1.364170</td>\n",
       "      <td>-0.497048</td>\n",
       "      <td>0.654645</td>\n",
       "      <td>-0.895981</td>\n",
       "      <td>0</td>\n",
       "      <td>0</td>\n",
       "      <td>1</td>\n",
       "      <td>0</td>\n",
       "      <td>0</td>\n",
       "      <td>0</td>\n",
       "      <td>0</td>\n",
       "      <td>0</td>\n",
       "      <td>1</td>\n",
       "      <td>0</td>\n",
       "      <td>0</td>\n",
       "      <td>0</td>\n",
       "      <td>0</td>\n",
       "      <td>0</td>\n",
       "      <td>0</td>\n",
       "      <td>0</td>\n",
       "      <td>0</td>\n",
       "      <td>0</td>\n",
       "      <td>0</td>\n",
       "      <td>1</td>\n",
       "      <td>1</td>\n",
       "      <td>0</td>\n",
       "    </tr>\n",
       "    <tr>\n",
       "      <th>79</th>\n",
       "      <td>0</td>\n",
       "      <td>0</td>\n",
       "      <td>1</td>\n",
       "      <td>-0.330635</td>\n",
       "      <td>-0.372076</td>\n",
       "      <td>0.751352</td>\n",
       "      <td>1.232757</td>\n",
       "      <td>-1.235426</td>\n",
       "      <td>1</td>\n",
       "      <td>0</td>\n",
       "      <td>0</td>\n",
       "      <td>1</td>\n",
       "      <td>0</td>\n",
       "      <td>0</td>\n",
       "      <td>0</td>\n",
       "      <td>0</td>\n",
       "      <td>0</td>\n",
       "      <td>0</td>\n",
       "      <td>1</td>\n",
       "      <td>0</td>\n",
       "      <td>0</td>\n",
       "      <td>0</td>\n",
       "      <td>0</td>\n",
       "      <td>0</td>\n",
       "      <td>0</td>\n",
       "      <td>0</td>\n",
       "      <td>0</td>\n",
       "      <td>0</td>\n",
       "      <td>1</td>\n",
       "      <td>0</td>\n",
       "    </tr>\n",
       "  </tbody>\n",
       "</table>\n",
       "<p>510 rows × 30 columns</p>\n",
       "</div>"
      ],
      "text/plain": [
       "     yr  holiday  workingday      temp     atemp       hum  windspeed  \\\n",
       "653   1        0           1 -0.121335 -0.055878 -0.514725  -0.117752   \n",
       "576   1        0           1  1.231731  1.194106  0.516433  -0.330615   \n",
       "426   1        0           0 -0.420478 -0.348834 -0.069854  -0.385694   \n",
       "728   1        0           0 -1.294913 -1.473492 -1.045032   2.018143   \n",
       "482   1        0           0 -0.627580 -0.571474 -1.000840  -0.779889   \n",
       "..   ..      ...         ...       ...       ...       ...        ...   \n",
       "526   1        0           1  1.273152  1.174464 -0.305544   0.205320   \n",
       "578   1        0           1  1.448040  1.467501  0.201190  -0.787759   \n",
       "53    0        0           1 -1.483204 -1.386775 -1.471329  -1.234384   \n",
       "350   0        0           0 -1.281106 -1.364170 -0.497048   0.654645   \n",
       "79    0        0           1 -0.330635 -0.372076  0.751352   1.232757   \n",
       "\n",
       "          cnt  summer  fall  winter  tuesday  wednesday  thursday  friday  \\\n",
       "653  1.562685       0     0       1        0          1         0       0   \n",
       "576  1.399629       0     1       0        0          1         0       0   \n",
       "426 -0.215554       0     0       0        0          0         0       0   \n",
       "728 -1.379511       0     0       0        0          0         0       0   \n",
       "482 -0.136589       1     0       0        0          0         0       0   \n",
       "..        ...     ...   ...     ...      ...        ...       ...     ...   \n",
       "526  1.116587       1     0       0        1          0         0       0   \n",
       "578  1.422703       0     1       0        0          0         0       1   \n",
       "53  -1.317467       0     0       0        0          0         1       0   \n",
       "350 -0.895981       0     0       1        0          0         0       0   \n",
       "79  -1.235426       1     0       0        1          0         0       0   \n",
       "\n",
       "     saturday  sunday  February  March  April  May  June  July  August  \\\n",
       "653         0       0         0      0      0    0     0     0       0   \n",
       "576         0       0         0      0      0    0     0     1       0   \n",
       "426         0       1         0      1      0    0     0     0       0   \n",
       "728         0       0         0      0      0    0     0     0       0   \n",
       "482         0       1         0      0      1    0     0     0       0   \n",
       "..        ...     ...       ...    ...    ...  ...   ...   ...     ...   \n",
       "526         0       0         0      0      0    0     1     0       0   \n",
       "578         0       0         0      0      0    0     0     0       1   \n",
       "53          0       0         1      0      0    0     0     0       0   \n",
       "350         0       1         0      0      0    0     0     0       0   \n",
       "79          0       0         0      1      0    0     0     0       0   \n",
       "\n",
       "     September  October  November  December  mist  light_snow  \n",
       "653          0        1         0         0     0           0  \n",
       "576          0        0         0         0     0           0  \n",
       "426          0        0         0         0     1           0  \n",
       "728          0        0         0         1     0           0  \n",
       "482          0        0         0         0     1           0  \n",
       "..         ...      ...       ...       ...   ...         ...  \n",
       "526          0        0         0         0     1           0  \n",
       "578          0        0         0         0     0           0  \n",
       "53           0        0         0         0     0           0  \n",
       "350          0        0         0         1     1           0  \n",
       "79           0        0         0         0     1           0  \n",
       "\n",
       "[510 rows x 30 columns]"
      ]
     },
     "execution_count": 376,
     "metadata": {},
     "output_type": "execute_result"
    }
   ],
   "source": [
    "df_train"
   ]
  },
  {
   "cell_type": "markdown",
   "id": "61ffe6da",
   "metadata": {
    "ExecuteTime": {
     "end_time": "2022-06-15T10:11:22.930378Z",
     "start_time": "2022-06-15T10:11:22.920378Z"
    }
   },
   "source": [
    "#### Diving the independent & target variable"
   ]
  },
  {
   "cell_type": "code",
   "execution_count": 377,
   "id": "a483e3c7",
   "metadata": {
    "ExecuteTime": {
     "end_time": "2022-06-15T15:57:32.917695Z",
     "start_time": "2022-06-15T15:57:32.897750Z"
    }
   },
   "outputs": [
    {
     "data": {
      "text/plain": [
       "((510, 29), (219, 29), (510,), (219,))"
      ]
     },
     "execution_count": 377,
     "metadata": {},
     "output_type": "execute_result"
    }
   ],
   "source": [
    "y_train = df_train.pop('cnt')\n",
    "X_train = df_train\n",
    "y_test = df_test.pop('cnt')\n",
    "X_test = df_test\n",
    "X_train.shape , X_test.shape , y_train.shape , y_test.shape"
   ]
  },
  {
   "cell_type": "markdown",
   "id": "f1addb7f",
   "metadata": {},
   "source": [
    "### Modelling the data - Creating the baseline model"
   ]
  },
  {
   "cell_type": "markdown",
   "id": "e105c018",
   "metadata": {},
   "source": [
    "#### Basemodel with the prepared data"
   ]
  },
  {
   "cell_type": "code",
   "execution_count": 378,
   "id": "8ca72d7f",
   "metadata": {
    "ExecuteTime": {
     "end_time": "2022-06-15T15:57:34.443056Z",
     "start_time": "2022-06-15T15:57:34.414103Z"
    },
    "scrolled": false
   },
   "outputs": [
    {
     "name": "stdout",
     "output_type": "stream",
     "text": [
      "the fitted regression line has intercept value of - -1.1333629310182531\n",
      "the fitted regression line has the following coefficient values\n",
      "             0         1\n",
      "0           yr  1.034921\n",
      "1      holiday -0.188943\n",
      "2   workingday  0.195564\n",
      "3         temp  0.403558\n",
      "4        atemp  0.047876\n",
      "5          hum -0.098608\n",
      "6    windspeed -0.139401\n",
      "7       summer  0.386838\n",
      "8         fall  0.216516\n",
      "9       winter  0.686215\n",
      "10     tuesday -0.044329\n",
      "11   wednesday -0.034552\n",
      "12    thursday  0.025952\n",
      "13      friday  0.008049\n",
      "14    saturday  0.051502\n",
      "15      sunday  0.243045\n",
      "16    February  0.135442\n",
      "17       March  0.284587\n",
      "18       April  0.278847\n",
      "19         May  0.388892\n",
      "20        June  0.271254\n",
      "21        July  0.103795\n",
      "22      August  0.350496\n",
      "23   September  0.643445\n",
      "24     October  0.313142\n",
      "25    November  0.092626\n",
      "26    December  0.075739\n",
      "27        mist -0.272004\n",
      "28  light_snow -1.144068\n"
     ]
    }
   ],
   "source": [
    "### using sklearn\n",
    "from sklearn.linear_model import LinearRegression\n",
    "regressor = LinearRegression()\n",
    "regressor.fit(X_train,y_train) \n",
    "print(\"the fitted regression line has intercept value of -\",regressor.intercept_)\n",
    "print(\"the fitted regression line has the following coefficient values\")\n",
    "print(pd.DataFrame(list(zip(X_train.columns,regressor.coef_))))"
   ]
  },
  {
   "cell_type": "markdown",
   "id": "3ff31b95",
   "metadata": {},
   "source": [
    "#### Predicting the target variables for train & test data"
   ]
  },
  {
   "cell_type": "code",
   "execution_count": 379,
   "id": "52eb6e97",
   "metadata": {
    "ExecuteTime": {
     "end_time": "2022-06-15T15:57:35.519175Z",
     "start_time": "2022-06-15T15:57:35.498197Z"
    },
    "scrolled": true
   },
   "outputs": [
    {
     "name": "stdout",
     "output_type": "stream",
     "text": [
      "the R2 for train dataset is  0.853344113318304\n",
      "the R2 for test dataset is  0.8281042033054027\n"
     ]
    }
   ],
   "source": [
    "predict_train = regressor.predict(X_train)\n",
    "predict_test = regressor.predict(X_test)\n",
    "print(\"the R2 for train dataset is \",r2_score(y_train,predict_train))\n",
    "print(\"the R2 for test dataset is \",r2_score(y_test,predict_test))"
   ]
  },
  {
   "cell_type": "markdown",
   "id": "33eed3fa",
   "metadata": {},
   "source": [
    "#### using statsmodel for model statistics"
   ]
  },
  {
   "cell_type": "code",
   "execution_count": 380,
   "id": "392d8f1e",
   "metadata": {
    "ExecuteTime": {
     "end_time": "2022-06-15T15:57:37.612775Z",
     "start_time": "2022-06-15T15:57:37.500911Z"
    },
    "scrolled": true
   },
   "outputs": [
    {
     "name": "stdout",
     "output_type": "stream",
     "text": [
      "                            OLS Regression Results                            \n",
      "==============================================================================\n",
      "Dep. Variable:                    cnt   R-squared:                       0.853\n",
      "Model:                            OLS   Adj. R-squared:                  0.845\n",
      "Method:                 Least Squares   F-statistic:                     99.96\n",
      "Date:                Wed, 15 Jun 2022   Prob (F-statistic):          8.42e-181\n",
      "Time:                        21:27:37   Log-Likelihood:                -234.14\n",
      "No. Observations:                 510   AIC:                             526.3\n",
      "Df Residuals:                     481   BIC:                             649.1\n",
      "Df Model:                          28                                         \n",
      "Covariance Type:            nonrobust                                         \n",
      "==============================================================================\n",
      "                 coef    std err          t      P>|t|      [0.025      0.975]\n",
      "------------------------------------------------------------------------------\n",
      "const         -1.1334      0.103    -11.052      0.000      -1.335      -0.932\n",
      "yr             1.0349      0.036     28.792      0.000       0.964       1.106\n",
      "holiday       -0.1889      0.105     -1.793      0.074      -0.396       0.018\n",
      "workingday     0.1956      0.042      4.689      0.000       0.114       0.278\n",
      "temp           0.4036      0.143      2.821      0.005       0.122       0.685\n",
      "atemp          0.0479      0.131      0.366      0.714      -0.209       0.305\n",
      "hum           -0.0986      0.025     -3.940      0.000      -0.148      -0.049\n",
      "windspeed     -0.1394      0.020     -7.003      0.000      -0.179      -0.100\n",
      "summer         0.3868      0.105      3.679      0.000       0.180       0.593\n",
      "fall           0.2165      0.134      1.618      0.106      -0.046       0.479\n",
      "winter         0.6862      0.116      5.932      0.000       0.459       0.914\n",
      "tuesday       -0.0443      0.043     -1.023      0.307      -0.129       0.041\n",
      "wednesday     -0.0346      0.050     -0.695      0.488      -0.132       0.063\n",
      "thursday       0.0260      0.047      0.554      0.580      -0.066       0.118\n",
      "friday         0.0080      0.049      0.165      0.869      -0.088       0.104\n",
      "saturday       0.0515      0.050      1.031      0.303      -0.047       0.150\n",
      "sunday         0.2430      0.065      3.757      0.000       0.116       0.370\n",
      "February       0.1354      0.092      1.474      0.141      -0.045       0.316\n",
      "March          0.2846      0.100      2.857      0.004       0.089       0.480\n",
      "April          0.2788      0.150      1.864      0.063      -0.015       0.573\n",
      "May            0.3889      0.161      2.412      0.016       0.072       0.706\n",
      "June           0.2713      0.174      1.556      0.120      -0.071       0.614\n",
      "July           0.1038      0.196      0.529      0.597      -0.282       0.489\n",
      "August         0.3505      0.187      1.873      0.062      -0.017       0.718\n",
      "September      0.6434      0.167      3.853      0.000       0.315       0.972\n",
      "October        0.3131      0.153      2.041      0.042       0.012       0.615\n",
      "November       0.0926      0.146      0.633      0.527      -0.195       0.380\n",
      "December       0.0757      0.118      0.641      0.522      -0.156       0.308\n",
      "mist          -0.2720      0.047     -5.845      0.000      -0.363      -0.181\n",
      "light_snow    -1.1441      0.118     -9.712      0.000      -1.376      -0.913\n",
      "==============================================================================\n",
      "Omnibus:                       85.143   Durbin-Watson:                   2.041\n",
      "Prob(Omnibus):                  0.000   Jarque-Bera (JB):              237.880\n",
      "Skew:                          -0.809   Prob(JB):                     2.21e-52\n",
      "Kurtosis:                       5.929   Cond. No.                     1.41e+16\n",
      "==============================================================================\n",
      "\n",
      "Notes:\n",
      "[1] Standard Errors assume that the covariance matrix of the errors is correctly specified.\n",
      "[2] The smallest eigenvalue is 6.24e-30. This might indicate that there are\n",
      "strong multicollinearity problems or that the design matrix is singular.\n"
     ]
    }
   ],
   "source": [
    "X_train = sm.add_constant(X_train)\n",
    "X_test = sm.add_constant(X_test)\n",
    "model = sm.OLS(y_train, X_train).fit()\n",
    "predictions = model.predict(X_train) \n",
    "\n",
    "print_model = model.summary()\n",
    "print(print_model)"
   ]
  },
  {
   "cell_type": "markdown",
   "id": "44d8ed01",
   "metadata": {
    "ExecuteTime": {
     "end_time": "2022-06-15T10:19:02.150056Z",
     "start_time": "2022-06-15T10:19:02.138457Z"
    }
   },
   "source": [
    "#### Inference\n",
    "- Here the null hypothesis associated with each independ variable is \n",
    "      h0: the independent variable has no significant effect on the target variable\n",
    "      h1: the independent variable has significant effect on the target variable\n",
    "- To reject the null hypothesis , the p-value < 0.05 . we should few variables having p-value > 0.05  . we should get rid away   of these variables  \n",
    "- The test and train r2 values are in acceptable difference from each other and hence there is no display of bias and variance\n",
    "- we see a concern of multicollinearity and hence should get way with correlated vars. We can explore VIF for this\n",
    "- Using RFE for automated feature reduction & this reduce further based on p values & vif"
   ]
  },
  {
   "cell_type": "markdown",
   "id": "7b442769",
   "metadata": {},
   "source": [
    "### Model Iterations based on feature reduction"
   ]
  },
  {
   "cell_type": "markdown",
   "id": "d8a76264",
   "metadata": {},
   "source": [
    "#### RFE - Model Iteration - 1"
   ]
  },
  {
   "cell_type": "code",
   "execution_count": 381,
   "id": "ff3a9eec",
   "metadata": {
    "ExecuteTime": {
     "end_time": "2022-06-15T15:57:40.565457Z",
     "start_time": "2022-06-15T15:57:40.511653Z"
    }
   },
   "outputs": [
    {
     "data": {
      "text/html": [
       "<div>\n",
       "<style scoped>\n",
       "    .dataframe tbody tr th:only-of-type {\n",
       "        vertical-align: middle;\n",
       "    }\n",
       "\n",
       "    .dataframe tbody tr th {\n",
       "        vertical-align: top;\n",
       "    }\n",
       "\n",
       "    .dataframe thead th {\n",
       "        text-align: right;\n",
       "    }\n",
       "</style>\n",
       "<table border=\"1\" class=\"dataframe\">\n",
       "  <thead>\n",
       "    <tr style=\"text-align: right;\">\n",
       "      <th></th>\n",
       "      <th>const</th>\n",
       "      <th>yr</th>\n",
       "      <th>holiday</th>\n",
       "      <th>workingday</th>\n",
       "      <th>temp</th>\n",
       "      <th>atemp</th>\n",
       "      <th>hum</th>\n",
       "      <th>windspeed</th>\n",
       "      <th>summer</th>\n",
       "      <th>fall</th>\n",
       "      <th>winter</th>\n",
       "      <th>tuesday</th>\n",
       "      <th>wednesday</th>\n",
       "      <th>thursday</th>\n",
       "      <th>friday</th>\n",
       "      <th>saturday</th>\n",
       "      <th>sunday</th>\n",
       "      <th>February</th>\n",
       "      <th>March</th>\n",
       "      <th>April</th>\n",
       "      <th>May</th>\n",
       "      <th>June</th>\n",
       "      <th>July</th>\n",
       "      <th>August</th>\n",
       "      <th>September</th>\n",
       "      <th>October</th>\n",
       "      <th>November</th>\n",
       "      <th>December</th>\n",
       "      <th>mist</th>\n",
       "      <th>light_snow</th>\n",
       "    </tr>\n",
       "  </thead>\n",
       "  <tbody>\n",
       "    <tr>\n",
       "      <th>653</th>\n",
       "      <td>1.0</td>\n",
       "      <td>1</td>\n",
       "      <td>0</td>\n",
       "      <td>1</td>\n",
       "      <td>-0.121335</td>\n",
       "      <td>-0.055878</td>\n",
       "      <td>-0.514725</td>\n",
       "      <td>-0.117752</td>\n",
       "      <td>0</td>\n",
       "      <td>0</td>\n",
       "      <td>1</td>\n",
       "      <td>0</td>\n",
       "      <td>1</td>\n",
       "      <td>0</td>\n",
       "      <td>0</td>\n",
       "      <td>0</td>\n",
       "      <td>0</td>\n",
       "      <td>0</td>\n",
       "      <td>0</td>\n",
       "      <td>0</td>\n",
       "      <td>0</td>\n",
       "      <td>0</td>\n",
       "      <td>0</td>\n",
       "      <td>0</td>\n",
       "      <td>0</td>\n",
       "      <td>1</td>\n",
       "      <td>0</td>\n",
       "      <td>0</td>\n",
       "      <td>0</td>\n",
       "      <td>0</td>\n",
       "    </tr>\n",
       "    <tr>\n",
       "      <th>576</th>\n",
       "      <td>1.0</td>\n",
       "      <td>1</td>\n",
       "      <td>0</td>\n",
       "      <td>1</td>\n",
       "      <td>1.231731</td>\n",
       "      <td>1.194106</td>\n",
       "      <td>0.516433</td>\n",
       "      <td>-0.330615</td>\n",
       "      <td>0</td>\n",
       "      <td>1</td>\n",
       "      <td>0</td>\n",
       "      <td>0</td>\n",
       "      <td>1</td>\n",
       "      <td>0</td>\n",
       "      <td>0</td>\n",
       "      <td>0</td>\n",
       "      <td>0</td>\n",
       "      <td>0</td>\n",
       "      <td>0</td>\n",
       "      <td>0</td>\n",
       "      <td>0</td>\n",
       "      <td>0</td>\n",
       "      <td>1</td>\n",
       "      <td>0</td>\n",
       "      <td>0</td>\n",
       "      <td>0</td>\n",
       "      <td>0</td>\n",
       "      <td>0</td>\n",
       "      <td>0</td>\n",
       "      <td>0</td>\n",
       "    </tr>\n",
       "    <tr>\n",
       "      <th>426</th>\n",
       "      <td>1.0</td>\n",
       "      <td>1</td>\n",
       "      <td>0</td>\n",
       "      <td>0</td>\n",
       "      <td>-0.420478</td>\n",
       "      <td>-0.348834</td>\n",
       "      <td>-0.069854</td>\n",
       "      <td>-0.385694</td>\n",
       "      <td>0</td>\n",
       "      <td>0</td>\n",
       "      <td>0</td>\n",
       "      <td>0</td>\n",
       "      <td>0</td>\n",
       "      <td>0</td>\n",
       "      <td>0</td>\n",
       "      <td>0</td>\n",
       "      <td>1</td>\n",
       "      <td>0</td>\n",
       "      <td>1</td>\n",
       "      <td>0</td>\n",
       "      <td>0</td>\n",
       "      <td>0</td>\n",
       "      <td>0</td>\n",
       "      <td>0</td>\n",
       "      <td>0</td>\n",
       "      <td>0</td>\n",
       "      <td>0</td>\n",
       "      <td>0</td>\n",
       "      <td>1</td>\n",
       "      <td>0</td>\n",
       "    </tr>\n",
       "    <tr>\n",
       "      <th>728</th>\n",
       "      <td>1.0</td>\n",
       "      <td>1</td>\n",
       "      <td>0</td>\n",
       "      <td>0</td>\n",
       "      <td>-1.294913</td>\n",
       "      <td>-1.473492</td>\n",
       "      <td>-1.045032</td>\n",
       "      <td>2.018143</td>\n",
       "      <td>0</td>\n",
       "      <td>0</td>\n",
       "      <td>0</td>\n",
       "      <td>0</td>\n",
       "      <td>0</td>\n",
       "      <td>0</td>\n",
       "      <td>0</td>\n",
       "      <td>0</td>\n",
       "      <td>0</td>\n",
       "      <td>0</td>\n",
       "      <td>0</td>\n",
       "      <td>0</td>\n",
       "      <td>0</td>\n",
       "      <td>0</td>\n",
       "      <td>0</td>\n",
       "      <td>0</td>\n",
       "      <td>0</td>\n",
       "      <td>0</td>\n",
       "      <td>0</td>\n",
       "      <td>1</td>\n",
       "      <td>0</td>\n",
       "      <td>0</td>\n",
       "    </tr>\n",
       "    <tr>\n",
       "      <th>482</th>\n",
       "      <td>1.0</td>\n",
       "      <td>1</td>\n",
       "      <td>0</td>\n",
       "      <td>0</td>\n",
       "      <td>-0.627580</td>\n",
       "      <td>-0.571474</td>\n",
       "      <td>-1.000840</td>\n",
       "      <td>-0.779889</td>\n",
       "      <td>1</td>\n",
       "      <td>0</td>\n",
       "      <td>0</td>\n",
       "      <td>0</td>\n",
       "      <td>0</td>\n",
       "      <td>0</td>\n",
       "      <td>0</td>\n",
       "      <td>0</td>\n",
       "      <td>1</td>\n",
       "      <td>0</td>\n",
       "      <td>0</td>\n",
       "      <td>1</td>\n",
       "      <td>0</td>\n",
       "      <td>0</td>\n",
       "      <td>0</td>\n",
       "      <td>0</td>\n",
       "      <td>0</td>\n",
       "      <td>0</td>\n",
       "      <td>0</td>\n",
       "      <td>0</td>\n",
       "      <td>1</td>\n",
       "      <td>0</td>\n",
       "    </tr>\n",
       "  </tbody>\n",
       "</table>\n",
       "</div>"
      ],
      "text/plain": [
       "     const  yr  holiday  workingday      temp     atemp       hum  windspeed  \\\n",
       "653    1.0   1        0           1 -0.121335 -0.055878 -0.514725  -0.117752   \n",
       "576    1.0   1        0           1  1.231731  1.194106  0.516433  -0.330615   \n",
       "426    1.0   1        0           0 -0.420478 -0.348834 -0.069854  -0.385694   \n",
       "728    1.0   1        0           0 -1.294913 -1.473492 -1.045032   2.018143   \n",
       "482    1.0   1        0           0 -0.627580 -0.571474 -1.000840  -0.779889   \n",
       "\n",
       "     summer  fall  winter  tuesday  wednesday  thursday  friday  saturday  \\\n",
       "653       0     0       1        0          1         0       0         0   \n",
       "576       0     1       0        0          1         0       0         0   \n",
       "426       0     0       0        0          0         0       0         0   \n",
       "728       0     0       0        0          0         0       0         0   \n",
       "482       1     0       0        0          0         0       0         0   \n",
       "\n",
       "     sunday  February  March  April  May  June  July  August  September  \\\n",
       "653       0         0      0      0    0     0     0       0          0   \n",
       "576       0         0      0      0    0     0     1       0          0   \n",
       "426       1         0      1      0    0     0     0       0          0   \n",
       "728       0         0      0      0    0     0     0       0          0   \n",
       "482       1         0      0      1    0     0     0       0          0   \n",
       "\n",
       "     October  November  December  mist  light_snow  \n",
       "653        1         0         0     0           0  \n",
       "576        0         0         0     0           0  \n",
       "426        0         0         0     1           0  \n",
       "728        0         0         1     0           0  \n",
       "482        0         0         0     1           0  "
      ]
     },
     "execution_count": 381,
     "metadata": {},
     "output_type": "execute_result"
    }
   ],
   "source": [
    "X_train.head()"
   ]
  },
  {
   "cell_type": "code",
   "execution_count": 382,
   "id": "420d52a5",
   "metadata": {
    "ExecuteTime": {
     "end_time": "2022-06-15T15:57:41.329531Z",
     "start_time": "2022-06-15T15:57:41.269590Z"
    }
   },
   "outputs": [],
   "source": [
    "lm = LinearRegression()\n",
    "lm.fit(X_train, y_train)\n",
    "\n",
    "rfe = RFE(lm, 12)             # running RFE for reducing to 12 variables\n",
    "rfe = rfe.fit(X_train, y_train)"
   ]
  },
  {
   "cell_type": "code",
   "execution_count": 383,
   "id": "6c5d73d2",
   "metadata": {
    "ExecuteTime": {
     "end_time": "2022-06-15T15:57:41.594445Z",
     "start_time": "2022-06-15T15:57:41.578851Z"
    },
    "scrolled": true
   },
   "outputs": [
    {
     "data": {
      "text/plain": [
       "[('const', False, 19),\n",
       " ('yr', True, 1),\n",
       " ('holiday', True, 1),\n",
       " ('workingday', True, 1),\n",
       " ('temp', True, 1),\n",
       " ('atemp', False, 15),\n",
       " ('hum', False, 9),\n",
       " ('windspeed', False, 8),\n",
       " ('summer', True, 1),\n",
       " ('fall', True, 1),\n",
       " ('winter', True, 1),\n",
       " ('tuesday', False, 13),\n",
       " ('wednesday', False, 14),\n",
       " ('thursday', False, 17),\n",
       " ('friday', False, 18),\n",
       " ('saturday', False, 16),\n",
       " ('sunday', True, 1),\n",
       " ('February', False, 7),\n",
       " ('March', False, 4),\n",
       " ('April', False, 6),\n",
       " ('May', False, 3),\n",
       " ('June', False, 5),\n",
       " ('July', False, 10),\n",
       " ('August', True, 1),\n",
       " ('September', True, 1),\n",
       " ('October', False, 2),\n",
       " ('November', False, 11),\n",
       " ('December', False, 12),\n",
       " ('mist', True, 1),\n",
       " ('light_snow', True, 1)]"
      ]
     },
     "execution_count": 383,
     "metadata": {},
     "output_type": "execute_result"
    }
   ],
   "source": [
    "### Understanding the variables selected by RFE\n",
    "list(zip(X_train.columns,rfe.support_,rfe.ranking_))"
   ]
  },
  {
   "cell_type": "code",
   "execution_count": 384,
   "id": "340171f8",
   "metadata": {
    "ExecuteTime": {
     "end_time": "2022-06-15T15:57:42.781257Z",
     "start_time": "2022-06-15T15:57:42.767295Z"
    }
   },
   "outputs": [
    {
     "data": {
      "text/plain": [
       "Index(['yr', 'holiday', 'workingday', 'temp', 'summer', 'fall', 'winter',\n",
       "       'sunday', 'August', 'September', 'mist', 'light_snow'],\n",
       "      dtype='object')"
      ]
     },
     "execution_count": 384,
     "metadata": {},
     "output_type": "execute_result"
    }
   ],
   "source": [
    "rfe_col = X_train.columns[rfe.support_]\n",
    "rfe_col ##12 model variables selected by RFE"
   ]
  },
  {
   "cell_type": "code",
   "execution_count": 385,
   "id": "d1e8a8e9",
   "metadata": {
    "ExecuteTime": {
     "end_time": "2022-06-15T15:57:43.388240Z",
     "start_time": "2022-06-15T15:57:43.360001Z"
    }
   },
   "outputs": [
    {
     "data": {
      "text/plain": [
       "Index(['const', 'atemp', 'hum', 'windspeed', 'tuesday', 'wednesday',\n",
       "       'thursday', 'friday', 'saturday', 'February', 'March', 'April', 'May',\n",
       "       'June', 'July', 'October', 'November', 'December'],\n",
       "      dtype='object')"
      ]
     },
     "execution_count": 385,
     "metadata": {},
     "output_type": "execute_result"
    }
   ],
   "source": [
    "X_train.columns[~rfe.support_]"
   ]
  },
  {
   "cell_type": "code",
   "execution_count": 386,
   "id": "e6e13366",
   "metadata": {
    "ExecuteTime": {
     "end_time": "2022-06-15T15:57:43.450636Z",
     "start_time": "2022-06-15T15:57:43.389831Z"
    },
    "scrolled": false
   },
   "outputs": [
    {
     "name": "stdout",
     "output_type": "stream",
     "text": [
      "                            OLS Regression Results                            \n",
      "==============================================================================\n",
      "Dep. Variable:                    cnt   R-squared:                       0.830\n",
      "Model:                            OLS   Adj. R-squared:                  0.826\n",
      "Method:                 Least Squares   F-statistic:                     201.7\n",
      "Date:                Wed, 15 Jun 2022   Prob (F-statistic):          3.35e-182\n",
      "Time:                        21:27:43   Log-Likelihood:                -272.37\n",
      "No. Observations:                 510   AIC:                             570.7\n",
      "Df Residuals:                     497   BIC:                             625.8\n",
      "Df Model:                          12                                         \n",
      "Covariance Type:            nonrobust                                         \n",
      "==============================================================================\n",
      "                 coef    std err          t      P>|t|      [0.025      0.975]\n",
      "------------------------------------------------------------------------------\n",
      "const         -0.9467      0.073    -13.028      0.000      -1.089      -0.804\n",
      "yr             1.0359      0.037     27.675      0.000       0.962       1.109\n",
      "holiday       -0.2586      0.127     -2.043      0.042      -0.507      -0.010\n",
      "workingday     0.2101      0.054      3.881      0.000       0.104       0.317\n",
      "temp           0.4944      0.034     14.692      0.000       0.428       0.561\n",
      "summer         0.5121      0.069      7.474      0.000       0.378       0.647\n",
      "fall           0.1955      0.101      1.933      0.054      -0.003       0.394\n",
      "winter         0.7200      0.058     12.408      0.000       0.606       0.834\n",
      "sunday         0.2431      0.068      3.569      0.000       0.109       0.377\n",
      "August         0.1884      0.081      2.319      0.021       0.029       0.348\n",
      "September      0.4864      0.079      6.127      0.000       0.330       0.642\n",
      "mist          -0.3676      0.040     -9.187      0.000      -0.446      -0.289\n",
      "light_snow    -1.3568      0.112    -12.121      0.000      -1.577      -1.137\n",
      "==============================================================================\n",
      "Omnibus:                       73.335   Durbin-Watson:                   2.048\n",
      "Prob(Omnibus):                  0.000   Jarque-Bera (JB):              203.097\n",
      "Skew:                          -0.701   Prob(JB):                     7.91e-45\n",
      "Kurtosis:                       5.755   Cond. No.                         11.4\n",
      "==============================================================================\n",
      "\n",
      "Notes:\n",
      "[1] Standard Errors assume that the covariance matrix of the errors is correctly specified.\n"
     ]
    }
   ],
   "source": [
    "#### Remodelling with 12 RFE selected models.\n",
    "X_train_rfe = X_train[rfe_col]\n",
    "X_test_rfe = X_test[rfe_col]\n",
    "X_train_rfe = sm.add_constant(X_train_rfe)\n",
    "X_test_rfe = sm.add_constant(X_test_rfe)\n",
    "lm1 = sm.OLS(y_train,X_train_rfe).fit() \n",
    "print(lm1.summary())"
   ]
  },
  {
   "cell_type": "code",
   "execution_count": 387,
   "id": "e2084c43",
   "metadata": {
    "ExecuteTime": {
     "end_time": "2022-06-15T15:57:44.808896Z",
     "start_time": "2022-06-15T15:57:44.795964Z"
    }
   },
   "outputs": [
    {
     "name": "stdout",
     "output_type": "stream",
     "text": [
      "the R2 for train dataset is  0.8296238326957297\n",
      "the R2 for test dataset is  0.8077604008212566\n"
     ]
    }
   ],
   "source": [
    "predict_train = lm1.predict(X_train_rfe)\n",
    "predict_test = lm1.predict(X_test_rfe)\n",
    "print(\"the R2 for train dataset is \",r2_score(y_train,predict_train))\n",
    "print(\"the R2 for test dataset is \",r2_score(y_test,predict_test))"
   ]
  },
  {
   "cell_type": "markdown",
   "id": "bfe50926",
   "metadata": {
    "ExecuteTime": {
     "end_time": "2022-06-15T11:50:26.721197Z",
     "start_time": "2022-06-15T11:50:26.701459Z"
    }
   },
   "source": [
    "####  Model Iteration 2 based on p-value obtained in first model iterations"
   ]
  },
  {
   "cell_type": "code",
   "execution_count": 388,
   "id": "9a724c7c",
   "metadata": {
    "ExecuteTime": {
     "end_time": "2022-06-15T15:57:48.468098Z",
     "start_time": "2022-06-15T15:57:48.423867Z"
    },
    "scrolled": true
   },
   "outputs": [
    {
     "name": "stdout",
     "output_type": "stream",
     "text": [
      "                            OLS Regression Results                            \n",
      "==============================================================================\n",
      "Dep. Variable:                    cnt   R-squared:                       0.828\n",
      "Model:                            OLS   Adj. R-squared:                  0.825\n",
      "Method:                 Least Squares   F-statistic:                     218.5\n",
      "Date:                Wed, 15 Jun 2022   Prob (F-statistic):          1.41e-182\n",
      "Time:                        21:27:48   Log-Likelihood:                -274.28\n",
      "No. Observations:                 510   AIC:                             572.6\n",
      "Df Residuals:                     498   BIC:                             623.4\n",
      "Df Model:                          11                                         \n",
      "Covariance Type:            nonrobust                                         \n",
      "==============================================================================\n",
      "                 coef    std err          t      P>|t|      [0.025      0.975]\n",
      "------------------------------------------------------------------------------\n",
      "const         -0.8639      0.059    -14.673      0.000      -0.980      -0.748\n",
      "yr             1.0309      0.037     27.532      0.000       0.957       1.105\n",
      "holiday       -0.2653      0.127     -2.092      0.037      -0.515      -0.016\n",
      "workingday     0.2098      0.054      3.864      0.000       0.103       0.316\n",
      "temp           0.5434      0.022     24.470      0.000       0.500       0.587\n",
      "summer         0.4220      0.050      8.378      0.000       0.323       0.521\n",
      "winter         0.6565      0.048     13.685      0.000       0.562       0.751\n",
      "sunday         0.2423      0.068      3.547      0.000       0.108       0.376\n",
      "August         0.2468      0.076      3.264      0.001       0.098       0.395\n",
      "September      0.5393      0.075      7.216      0.000       0.392       0.686\n",
      "mist          -0.3690      0.040     -9.201      0.000      -0.448      -0.290\n",
      "light_snow    -1.3494      0.112    -12.029      0.000      -1.570      -1.129\n",
      "==============================================================================\n",
      "Omnibus:                       67.837   Durbin-Watson:                   2.039\n",
      "Prob(Omnibus):                  0.000   Jarque-Bera (JB):              175.547\n",
      "Skew:                          -0.670   Prob(JB):                     7.59e-39\n",
      "Kurtosis:                       5.542   Cond. No.                         10.5\n",
      "==============================================================================\n",
      "\n",
      "Notes:\n",
      "[1] Standard Errors assume that the covariance matrix of the errors is correctly specified.\n"
     ]
    }
   ],
   "source": [
    "high_p_vars = ['fall']\n",
    "\n",
    "### dropping 'fall' from variable list as fall has the highest p-value in the first model iteration\n",
    "X_train_pvars = X_train_rfe.drop(columns = high_p_vars)\n",
    "X_test_pvars = X_test_rfe.drop(columns = high_p_vars)\n",
    "X_train_pvars = sm.add_constant(X_train_pvars)\n",
    "X_test_pvars = sm.add_constant(X_test_pvars)\n",
    "lm = sm.OLS(y_train,X_train_pvars).fit() \n",
    "print(lm.summary())"
   ]
  },
  {
   "cell_type": "code",
   "execution_count": 389,
   "id": "4482e0bd",
   "metadata": {
    "ExecuteTime": {
     "end_time": "2022-06-15T15:57:49.265798Z",
     "start_time": "2022-06-15T15:57:49.244856Z"
    }
   },
   "outputs": [
    {
     "data": {
      "text/plain": [
       "LinearRegression()"
      ]
     },
     "execution_count": 389,
     "metadata": {},
     "output_type": "execute_result"
    }
   ],
   "source": [
    "### predicting the target variables based on MOdel Iteration 2\n",
    "lm = LinearRegression()\n",
    "X_train_pvars = X_train_pvars.drop(columns='const')\n",
    "X_test_pvars = X_test_pvars.drop(columns='const')\n",
    "lm.fit(X_train_pvars,y_train) "
   ]
  },
  {
   "cell_type": "markdown",
   "id": "fa056c64",
   "metadata": {
    "ExecuteTime": {
     "end_time": "2022-06-15T11:53:42.375413Z",
     "start_time": "2022-06-15T11:53:42.354587Z"
    }
   },
   "source": [
    "#### Checking the VIF of the selected 11 model parameters"
   ]
  },
  {
   "cell_type": "code",
   "execution_count": 390,
   "id": "16ebf92b",
   "metadata": {
    "ExecuteTime": {
     "end_time": "2022-06-15T15:57:58.017672Z",
     "start_time": "2022-06-15T15:57:57.971582Z"
    },
    "scrolled": false
   },
   "outputs": [
    {
     "data": {
      "text/html": [
       "<div>\n",
       "<style scoped>\n",
       "    .dataframe tbody tr th:only-of-type {\n",
       "        vertical-align: middle;\n",
       "    }\n",
       "\n",
       "    .dataframe tbody tr th {\n",
       "        vertical-align: top;\n",
       "    }\n",
       "\n",
       "    .dataframe thead th {\n",
       "        text-align: right;\n",
       "    }\n",
       "</style>\n",
       "<table border=\"1\" class=\"dataframe\">\n",
       "  <thead>\n",
       "    <tr style=\"text-align: right;\">\n",
       "      <th></th>\n",
       "      <th>Features</th>\n",
       "      <th>VIF</th>\n",
       "    </tr>\n",
       "  </thead>\n",
       "  <tbody>\n",
       "    <tr>\n",
       "      <th>0</th>\n",
       "      <td>workingday</td>\n",
       "      <td>2.65</td>\n",
       "    </tr>\n",
       "    <tr>\n",
       "      <th>1</th>\n",
       "      <td>yr</td>\n",
       "      <td>1.85</td>\n",
       "    </tr>\n",
       "    <tr>\n",
       "      <th>2</th>\n",
       "      <td>summer</td>\n",
       "      <td>1.62</td>\n",
       "    </tr>\n",
       "    <tr>\n",
       "      <th>3</th>\n",
       "      <td>mist</td>\n",
       "      <td>1.56</td>\n",
       "    </tr>\n",
       "    <tr>\n",
       "      <th>4</th>\n",
       "      <td>August</td>\n",
       "      <td>1.52</td>\n",
       "    </tr>\n",
       "    <tr>\n",
       "      <th>5</th>\n",
       "      <td>winter</td>\n",
       "      <td>1.50</td>\n",
       "    </tr>\n",
       "    <tr>\n",
       "      <th>6</th>\n",
       "      <td>temp</td>\n",
       "      <td>1.41</td>\n",
       "    </tr>\n",
       "    <tr>\n",
       "      <th>7</th>\n",
       "      <td>sunday</td>\n",
       "      <td>1.37</td>\n",
       "    </tr>\n",
       "    <tr>\n",
       "      <th>8</th>\n",
       "      <td>September</td>\n",
       "      <td>1.27</td>\n",
       "    </tr>\n",
       "    <tr>\n",
       "      <th>9</th>\n",
       "      <td>light_snow</td>\n",
       "      <td>1.07</td>\n",
       "    </tr>\n",
       "    <tr>\n",
       "      <th>10</th>\n",
       "      <td>holiday</td>\n",
       "      <td>1.06</td>\n",
       "    </tr>\n",
       "  </tbody>\n",
       "</table>\n",
       "</div>"
      ],
      "text/plain": [
       "      Features   VIF\n",
       "0   workingday  2.65\n",
       "1           yr  1.85\n",
       "2       summer  1.62\n",
       "3         mist  1.56\n",
       "4       August  1.52\n",
       "5       winter  1.50\n",
       "6         temp  1.41\n",
       "7       sunday  1.37\n",
       "8    September  1.27\n",
       "9   light_snow  1.07\n",
       "10     holiday  1.06"
      ]
     },
     "execution_count": 390,
     "metadata": {},
     "output_type": "execute_result"
    }
   ],
   "source": [
    "vif = pd.DataFrame()\n",
    "X = X_train_pvars\n",
    "vif['Features'] = X.columns\n",
    "vif['VIF'] = [variance_inflation_factor(X.values, i) for i in range(X.shape[1])]\n",
    "vif['VIF'] = round(vif['VIF'], 2)\n",
    "vif = vif.sort_values(by = \"VIF\", ascending = False).reset_index(drop = True)\n",
    "vif"
   ]
  },
  {
   "cell_type": "markdown",
   "id": "11ba05c3",
   "metadata": {},
   "source": [
    "#### Coefficients as a measure of feature contribution"
   ]
  },
  {
   "cell_type": "code",
   "execution_count": 391,
   "id": "418d5782",
   "metadata": {
    "ExecuteTime": {
     "end_time": "2022-06-15T15:58:10.367718Z",
     "start_time": "2022-06-15T15:58:10.335960Z"
    },
    "scrolled": false
   },
   "outputs": [
    {
     "data": {
      "text/html": [
       "<div>\n",
       "<style scoped>\n",
       "    .dataframe tbody tr th:only-of-type {\n",
       "        vertical-align: middle;\n",
       "    }\n",
       "\n",
       "    .dataframe tbody tr th {\n",
       "        vertical-align: top;\n",
       "    }\n",
       "\n",
       "    .dataframe thead th {\n",
       "        text-align: right;\n",
       "    }\n",
       "</style>\n",
       "<table border=\"1\" class=\"dataframe\">\n",
       "  <thead>\n",
       "    <tr style=\"text-align: right;\">\n",
       "      <th></th>\n",
       "      <th>Features</th>\n",
       "      <th>Absolute_Coefficients</th>\n",
       "      <th>Coefficients</th>\n",
       "    </tr>\n",
       "  </thead>\n",
       "  <tbody>\n",
       "    <tr>\n",
       "      <th>0</th>\n",
       "      <td>light_snow</td>\n",
       "      <td>1.349393</td>\n",
       "      <td>-1.35</td>\n",
       "    </tr>\n",
       "    <tr>\n",
       "      <th>1</th>\n",
       "      <td>yr</td>\n",
       "      <td>1.030943</td>\n",
       "      <td>1.03</td>\n",
       "    </tr>\n",
       "    <tr>\n",
       "      <th>2</th>\n",
       "      <td>winter</td>\n",
       "      <td>0.656524</td>\n",
       "      <td>0.66</td>\n",
       "    </tr>\n",
       "    <tr>\n",
       "      <th>3</th>\n",
       "      <td>temp</td>\n",
       "      <td>0.543424</td>\n",
       "      <td>0.54</td>\n",
       "    </tr>\n",
       "    <tr>\n",
       "      <th>4</th>\n",
       "      <td>September</td>\n",
       "      <td>0.539327</td>\n",
       "      <td>0.54</td>\n",
       "    </tr>\n",
       "    <tr>\n",
       "      <th>5</th>\n",
       "      <td>summer</td>\n",
       "      <td>0.422047</td>\n",
       "      <td>0.42</td>\n",
       "    </tr>\n",
       "    <tr>\n",
       "      <th>6</th>\n",
       "      <td>mist</td>\n",
       "      <td>0.369042</td>\n",
       "      <td>-0.37</td>\n",
       "    </tr>\n",
       "    <tr>\n",
       "      <th>7</th>\n",
       "      <td>holiday</td>\n",
       "      <td>0.265323</td>\n",
       "      <td>-0.27</td>\n",
       "    </tr>\n",
       "    <tr>\n",
       "      <th>8</th>\n",
       "      <td>August</td>\n",
       "      <td>0.246802</td>\n",
       "      <td>0.25</td>\n",
       "    </tr>\n",
       "    <tr>\n",
       "      <th>9</th>\n",
       "      <td>sunday</td>\n",
       "      <td>0.242252</td>\n",
       "      <td>0.24</td>\n",
       "    </tr>\n",
       "    <tr>\n",
       "      <th>10</th>\n",
       "      <td>workingday</td>\n",
       "      <td>0.209776</td>\n",
       "      <td>0.21</td>\n",
       "    </tr>\n",
       "  </tbody>\n",
       "</table>\n",
       "</div>"
      ],
      "text/plain": [
       "      Features  Absolute_Coefficients  Coefficients\n",
       "0   light_snow               1.349393         -1.35\n",
       "1           yr               1.030943          1.03\n",
       "2       winter               0.656524          0.66\n",
       "3         temp               0.543424          0.54\n",
       "4    September               0.539327          0.54\n",
       "5       summer               0.422047          0.42\n",
       "6         mist               0.369042         -0.37\n",
       "7      holiday               0.265323         -0.27\n",
       "8       August               0.246802          0.25\n",
       "9       sunday               0.242252          0.24\n",
       "10  workingday               0.209776          0.21"
      ]
     },
     "execution_count": 391,
     "metadata": {},
     "output_type": "execute_result"
    }
   ],
   "source": [
    "lm = LinearRegression()\n",
    "lm.fit(X_train_pvars,y_train) \n",
    "imp = pd.DataFrame()\n",
    "X = X_train_pvars\n",
    "imp['Features'] = X.columns\n",
    "imp['Absolute_Coefficients'] = [np.abs(lm.coef_[i]) for i in range(X.shape[1])]\n",
    "imp['Coefficients'] = [lm.coef_[i] for i in range(X.shape[1])]\n",
    "imp['Coefficients'] = round(imp['Coefficients'], 2)\n",
    "imp = imp.sort_values(by = \"Absolute_Coefficients\", ascending = False).reset_index(drop = True)\n",
    "imp"
   ]
  },
  {
   "cell_type": "markdown",
   "id": "8a5b0702",
   "metadata": {},
   "source": [
    "#### Inference\n",
    "-  We have finilised the linear model \"lm\" after two iterations\n",
    "- there are 11 independent variables in the model.\n",
    "- We see that VIF for all these 11 variable fall within 3 (<5) \n",
    "- We see all the p-values are close to 0.00 and less that 0.05.\n",
    "- We see the top variables with highest coefficients are light snow(dummy var), yr , winter(dummy var) & temp"
   ]
  },
  {
   "cell_type": "markdown",
   "id": "2a5d2789",
   "metadata": {},
   "source": [
    "### Residual Analysis"
   ]
  },
  {
   "cell_type": "markdown",
   "id": "0aab3acc",
   "metadata": {},
   "source": [
    "#### Checking for normal distribution in the error terms"
   ]
  },
  {
   "cell_type": "code",
   "execution_count": 392,
   "id": "6562466c",
   "metadata": {
    "ExecuteTime": {
     "end_time": "2022-06-15T15:58:13.187844Z",
     "start_time": "2022-06-15T15:58:13.181889Z"
    }
   },
   "outputs": [],
   "source": [
    "res = y_train - predict_train"
   ]
  },
  {
   "cell_type": "code",
   "execution_count": 393,
   "id": "54e5131c",
   "metadata": {
    "ExecuteTime": {
     "end_time": "2022-06-15T15:58:14.696244Z",
     "start_time": "2022-06-15T15:58:14.187172Z"
    },
    "scrolled": false
   },
   "outputs": [
    {
     "data": {
      "text/plain": [
       "<AxesSubplot:ylabel='Density'>"
      ]
     },
     "execution_count": 393,
     "metadata": {},
     "output_type": "execute_result"
    },
    {
     "data": {
      "image/png": "[encoded data removed]",
      "text/plain": [
       "<Figure size 432x288 with 1 Axes>"
      ]
     },
     "metadata": {
      "needs_background": "light"
     },
     "output_type": "display_data"
    }
   ],
   "source": [
    "sns.distplot(res)"
   ]
  },
  {
   "cell_type": "markdown",
   "id": "fe84c9da",
   "metadata": {},
   "source": [
    "#### Checking for patterns in the residuals"
   ]
  },
  {
   "cell_type": "code",
   "execution_count": 394,
   "id": "85638f69",
   "metadata": {
    "ExecuteTime": {
     "end_time": "2022-06-15T15:58:19.858477Z",
     "start_time": "2022-06-15T15:58:19.480037Z"
    },
    "scrolled": true
   },
   "outputs": [
    {
     "data": {
      "text/plain": [
       "<AxesSubplot:>"
      ]
     },
     "execution_count": 394,
     "metadata": {},
     "output_type": "execute_result"
    },
    {
     "data": {
      "image/png": "[encoded data removed]",
      "text/plain": [
       "<Figure size 432x288 with 1 Axes>"
      ]
     },
     "metadata": {
      "needs_background": "light"
     },
     "output_type": "display_data"
    }
   ],
   "source": [
    "sns.scatterplot( y=predict_train, x=res,hue=None)"
   ]
  },
  {
   "cell_type": "markdown",
   "id": "5cf9cfba",
   "metadata": {},
   "source": [
    "#### Inference \n",
    "- The error terms are following a normal distribution\n",
    "- The error terms are centrerd around 0\n",
    "- The error terms are not following any pattern"
   ]
  },
  {
   "cell_type": "markdown",
   "id": "22c26e3f",
   "metadata": {},
   "source": [
    "### Model Evaluation"
   ]
  },
  {
   "cell_type": "code",
   "execution_count": 395,
   "id": "d7beb180",
   "metadata": {
    "ExecuteTime": {
     "end_time": "2022-06-15T15:58:21.451899Z",
     "start_time": "2022-06-15T15:58:21.425760Z"
    }
   },
   "outputs": [
    {
     "name": "stdout",
     "output_type": "stream",
     "text": [
      "the R2 for train dataset is  0.8283425445336818\n",
      "the R2 for test dataset is  0.7998120341762152\n"
     ]
    }
   ],
   "source": [
    "predict_train = lm.predict(X_train_pvars)\n",
    "predict_test = lm.predict(X_test_pvars)\n",
    "print(\"the R2 for train dataset is \",r2_score(y_train,predict_train))\n",
    "print(\"the R2 for test dataset is \",r2_score(y_test,predict_test))"
   ]
  },
  {
   "cell_type": "code",
   "execution_count": 396,
   "id": "9d1014f1",
   "metadata": {
    "ExecuteTime": {
     "end_time": "2022-06-15T15:58:22.373820Z",
     "start_time": "2022-06-15T15:58:22.354874Z"
    }
   },
   "outputs": [
    {
     "name": "stdout",
     "output_type": "stream",
     "text": [
      "in the test data , we observe that the MAPE : 1.029104\n",
      "in the test data , we observe that the MSE: 0.188866\n",
      "in the test data , we observe that the RMSE: 0.434588\n"
     ]
    }
   ],
   "source": [
    "from sklearn.metrics import mean_squared_error\n",
    "from sklearn.metrics import mean_absolute_percentage_error\n",
    "\n",
    "mape = mean_absolute_percentage_error(y_test, predict_test)\n",
    "mse = mean_squared_error(y_true=y_test, y_pred = predict_test, squared=True)\n",
    "rmse = mean_squared_error(y_true=y_test, y_pred = predict_test, squared=False)\n",
    "print('in the test data , we observe that the MAPE : {:.6f}'.format(mape))\n",
    "print('in the test data , we observe that the MSE: {:.6f}'.format(mse))\n",
    "print('in the test data , we observe that the RMSE: {:.6f}'.format(rmse))"
   ]
  },
  {
   "cell_type": "markdown",
   "id": "e0264a84",
   "metadata": {},
   "source": [
    "####  Inference \n",
    "- We see that all the evaluation metrics MAPE ehich is mean of absolute percentage error , MSE & RMSE falls within the \n",
    "  acceptable range\n",
    "- The train R2 lies around .82 and the test R2 is around .79. This says that ~80%  variance in the target variable is being    explained by the independent variables in the model"
   ]
  },
  {
   "cell_type": "markdown",
   "id": "d860644e",
   "metadata": {},
   "source": [
    "###  Final Report\n",
    "- The dataset consisted of 730 rows & 16 features\n",
    "- \"cnt\" which was the demand of shared bikes was the variable to predict\n",
    "- There existed 7 categorical variables. Few of them were binary & were good to be consumed in the model as it is.\n",
    "- There were 4 categorical variables which have been encoded to avoid misinterpretation by the algorithm.\n",
    "- The numerical variables have been resclaled using standardisation to enhance interpretability & restrict computation timing.\n",
    "- The model was trained on 70% of data and tested on the remaining 30%\n",
    "- The baseline model gave a test R2 of .82. But there existed p-values > 0.05\n",
    "- Hence the model was iterated using RFE as a feature reduction technique. A combination of RFE and thorough analysis of p-values & VIF gave the final model \"lm\"\n",
    "- The final model \"lm\" has been trained on 11 independent variables.\n",
    "- The independent variables included in the final model are - ['yr', 'holiday', 'workingday', 'temp', 'summer', 'winter', 'sunday','August', 'September', 'mist', 'light_snow']\n",
    "- The test R2 on the final model is ~.8 with MSE of ~.1. This says that 80% of the variance in the target variable \"cnt\" is being explained by the model \n",
    "- The adjusted R value is also ~.82 in train sample which is very close to R2 value .\n",
    "- The variables of highest contribution or with highest coefficients are light snow(one of the derived dummy variable) , yr ,winter(another derived dummy variable) & temp.\n",
    "- Light snow shows a negative relation with the target variable\n",
    "- The residual analysis confirms that error terms are following a normal distribution & dont show any pattern"
   ]
  }
 ],
 "metadata": {
  "hide_input": false,
  "kernelspec": {
   "display_name": "Python 3",
   "language": "python",
   "name": "python3"
  },
  "language_info": {
   "codemirror_mode": {
    "name": "ipython",
    "version": 3
   },
   "file_extension": ".py",
   "mimetype": "text/x-python",
   "name": "python",
   "nbconvert_exporter": "python",
   "pygments_lexer": "ipython3",
   "version": "3.8.8"
  },
  "toc": {
   "base_numbering": 1,
   "nav_menu": {},
   "number_sections": true,
   "sideBar": true,
   "skip_h1_title": false,
   "title_cell": "Table of Contents",
   "title_sidebar": "Contents",
   "toc_cell": false,
   "toc_position": {},
   "toc_section_display": true,
   "toc_window_display": false
  },
  "varInspector": {
   "cols": {
    "lenName": 16,
    "lenType": 16,
    "lenVar": 40
   },
   "kernels_config": {
    "python": {
     "delete_cmd_postfix": "",
     "delete_cmd_prefix": "del ",
     "library": "var_list.py",
     "varRefreshCmd": "print(var_dic_list())"
    },
    "r": {
     "delete_cmd_postfix": ") ",
     "delete_cmd_prefix": "rm(",
     "library": "var_list.r",
     "varRefreshCmd": "cat(var_dic_list()) "
    }
   },
   "types_to_exclude": [
    "module",
    "function",
    "builtin_function_or_method",
    "instance",
    "_Feature"
   ],
   "window_display": false
  }
 },
 "nbformat": 4,
 "nbformat_minor": 5
}
